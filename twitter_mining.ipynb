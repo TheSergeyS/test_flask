{
 "cells": [
  {
   "cell_type": "code",
   "execution_count": 2,
   "metadata": {},
   "outputs": [],
   "source": [
    "from pymongo import MongoClient\n",
    "import webapp.tw as tw\n",
    "import twitter_text\n",
    "from bson.objectid import ObjectId"
   ]
  },
  {
   "cell_type": "code",
   "execution_count": 3,
   "metadata": {},
   "outputs": [],
   "source": [
    "twitter_api = tw.oauth_login()\n",
    "client = MongoClient('127.0.0.1', 3979)"
   ]
  },
  {
   "cell_type": "code",
   "execution_count": 4,
   "metadata": {},
   "outputs": [],
   "source": [
    "db = client.tw_data\n",
    "\n",
    "users = db.users\n",
    "followers = db.followers\n",
    "friends = db.friends"
   ]
  },
  {
   "cell_type": "code",
   "execution_count": 11,
   "metadata": {},
   "outputs": [],
   "source": [
    "def user_friends_followers_toDB(db, userid, friends, followers):\n",
    "        \n",
    "        # !!!User одной записью, но с массивом друзей/фолловеров!!!        \n",
    "        friend_id = db.friends.insert_({'user_id': userid, 'friends_id': friends}).inserted_id\n",
    "        follower_id = db.followers.insert_one({'user_id': userid, 'followers_id': followers}).inserted_id\n",
    "        \n",
    "        return friend_id, follower_id"
   ]
  },
  {
   "cell_type": "code",
   "execution_count": 4,
   "metadata": {
    "scrolled": true
   },
   "outputs": [
    {
     "name": "stdout",
     "output_type": "stream",
     "text": [
      "name: дїїїїїїїдько, id: 1057974587890298880, followers: 1934, friends: 262\n",
      "name: отличная хрестоматийная cougar, id: 186384811, followers: 4522, friends: 613\n",
      "name: BBC Learning English, id: 2450291, followers: 629087, friends: 2297\n",
      "name: 9to5Toys, id: 42980370, followers: 72612, friends: 14\n",
      "name: Kіевлянинъ, id: 2813067186, followers: 5699, friends: 3908\n",
      "name: Google Maps, id: 31311757, followers: 3840716, friends: 58\n",
      "name: Gmail, id: 38679388, followers: 6282404, friends: 115\n",
      "name: КМДА, id: 862574318345179137, followers: 1896, friends: 140\n",
      "name: Денис Казанський, id: 259718566, followers: 98331, friends: 336\n",
      "name: Hon. Judge Dredd, id: 2647840802, followers: 4740, friends: 868\n",
      "name: Visual Studio Code, id: 3167734591, followers: 347522, friends: 125\n",
      "name: Віталій Кличко, id: 814943028, followers: 401629, friends: 55\n",
      "name: nauka.ua, id: 1329384353835733002, followers: 3488, friends: 17\n",
      "name: B&B Project, id: 3251395007, followers: 4946, friends: 1401\n",
      "name: FanlessTech, id: 705716689279782912, followers: 2667, friends: 86\n",
      "name: Kostiantyn Yelisieiev, id: 1134414675612000256, followers: 4730, friends: 67\n",
      "name: Олег  Пономарь, id: 2774459358, followers: 21229, friends: 18\n",
      "name: Адам Смит, id: 4012303169, followers: 6648, friends: 48\n",
      "name: OpenStreetMap UA, id: 3351810969, followers: 480, friends: 102\n",
      "name: Українська Вікіпедія, id: 1656030284, followers: 3892, friends: 115\n",
      "name: Yevstraty Zoria, id: 2208446722, followers: 4773, friends: 127\n",
      "name: Andreas Banderas, id: 81580227, followers: 5308, friends: 595\n",
      "name: Citroën, id: 198789818, followers: 126243, friends: 2816\n",
      "name: баварская_колбаска, id: 912607062030503936, followers: 450, friends: 16\n",
      "name: Tube Time, id: 304787003, followers: 30175, friends: 323\n",
      "name: Olga V. Pettersson, id: 589983379, followers: 17307, friends: 321\n",
      "name: Красень Κиїв, id: 2575433509, followers: 10233, friends: 917\n",
      "name: Turkish Airlines, id: 18909186, followers: 1837860, friends: 34\n",
      "name: Qatar Airways, id: 14589119, followers: 1643343, friends: 233\n",
      "name: Na chasi, id: 835532174686359552, followers: 3852, friends: 79\n",
      "name: Mykhaylo Demkiv / Михайло Демків, id: 1267722202943836160, followers: 1481, friends: 232\n",
      "name: Все о США, id: 2813416529, followers: 11762, friends: 40\n",
      "name: Пан ZÆбафаній жівчік♒м™, id: 2748608792, followers: 8875, friends: 772\n",
      "name: Men's Corner, id: 212942638, followers: 196587, friends: 1338\n",
      "name: Амбасадор Троєщини, id: 17460630, followers: 8457, friends: 493\n",
      "name: Yevgeniy Mudzhyri™, id: 20973687, followers: 4885, friends: 1579\n",
      "name: iFixit, id: 15339201, followers: 103756, friends: 1609\n",
      "name: Роман Цимбалюк, id: 431725554, followers: 6079, friends: 216\n",
      "name: Pavlo Klimkin, id: 383733061, followers: 325187, friends: 274\n",
      "name: Central Bank Rates, id: 19408929, followers: 1883, friends: 70\n",
      "name: Мова – ДНК нації, id: 2827417134, followers: 8375, friends: 12\n",
      "name: Голобородько, id: 1120562504499855360, followers: 3636, friends: 3\n",
      "name: r/DataIsBeautiful, id: 1201186872, followers: 50458, friends: 1337\n",
      "name: Яніна Соколова, id: 772782688033992704, followers: 54469, friends: 61\n",
      "name: ШаЛєна Місія, id: 425331893, followers: 3993, friends: 168\n",
      "name: Python LibHunt, id: 775715782495989761, followers: 2337, friends: 2247\n",
      "name: РuŦyƛA-С, id: 921637074, followers: 23418, friends: 449\n",
      "name: MIL.IN.UA, id: 1102047326, followers: 18746, friends: 240\n",
      "name: Real Python, id: 745911914, followers: 96466, friends: 158\n",
      "name: Ebanoe IT, id: 358639633, followers: 3442, friends: 0\n",
      "name: Data Science Central, id: 393033324, followers: 181351, friends: 1087\n",
      "name: TEXTY.Org.Ua, id: 49572937, followers: 6970, friends: 954\n",
      "name: IPython Developers, id: 860076704, followers: 30000, friends: 23\n",
      "name: Project Jupyter, id: 2460368252, followers: 70272, friends: 71\n",
      "name: /r/Python Popular, id: 1849184514, followers: 888, friends: 216\n",
      "name: Randy Olson, id: 49413866, followers: 123278, friends: 76608\n",
      "name: import python 🐍, id: 2835746784, followers: 28971, friends: 724\n",
      "name: Talk Python Podcast, id: 3098427092, followers: 46307, friends: 3748\n",
      "name: Full Stack Python, id: 2996502625, followers: 62897, friends: 101\n",
      "name: PyCoder’s Weekly, id: 484757080, followers: 76737, friends: 2\n",
      "name: Raymond Hettinger, id: 14159138, followers: 67022, friends: 478\n",
      "name: JavaScript Daily, id: 459275531, followers: 446573, friends: 148\n",
      "name: JetBrains WebStorm, id: 1307796572, followers: 25005, friends: 23\n",
      "name: JetBrains PyCharm, id: 107032314, followers: 51322, friends: 24\n",
      "name: Prometheus, id: 2831618754, followers: 3125, friends: 21\n",
      "name: ЛІГА.net, id: 68969676, followers: 322437, friends: 354\n",
      "name: Max Nefyodov, id: 29409551, followers: 6886, friends: 330\n",
      "name: Peter Shuklinov, id: 253445158, followers: 20902, friends: 30\n",
      "name: Lowcost.UA, id: 242011754, followers: 2393, friends: 92\n",
      "name: Роман Донік, id: 96215272, followers: 22814, friends: 25\n",
      "name: Капітан Прайс, id: 4746811407, followers: 23733, friends: 172\n",
      "name: Сайгон, id: 2883124529, followers: 7681, friends: 16\n",
      "name: Fly4free, id: 95905646, followers: 6973, friends: 93\n",
      "name: LowcostAvia, id: 2420360234, followers: 4140, friends: 22\n",
      "name: Sni, id: 4689725059, followers: 1258, friends: 195\n",
      "name: Vitaly Portnikov, id: 52752441, followers: 281156, friends: 169\n",
      "name: ДК УкрОборонПром, id: 2730219313, followers: 48668, friends: 30\n",
      "name: Тупые запросы в гугле, id: 2354704231, followers: 11561, friends: 0\n",
      "name: Snowie, id: 337910217, followers: 20139, friends: 682\n",
      "name: ЄВРОМАЙДАН, id: 2207788292, followers: 325842, friends: 1260\n",
      "name: Петр и Мазепа, id: 2453418451, followers: 27076, friends: 31\n"
     ]
    }
   ],
   "source": [
    "for user in users.find():\n",
    "    print(\"name: {0}, id: {1}, followers: {2}, friends: {3}\".format(user['name'], \n",
    "                                                                    user['id'], \n",
    "                                                                    user[\"followers_count\"], \n",
    "                                                                    user[\"friends_count\"]))"
   ]
  },
  {
   "cell_type": "code",
   "execution_count": 50,
   "metadata": {
    "scrolled": true
   },
   "outputs": [
    {
     "data": {
      "text/plain": [
       "{'_id': ObjectId('6047455dc88fbe4607e22808'),\n",
       " 'user_id': 42980370,\n",
       " 'friends_id': [1208882797336834054,\n",
       "  118938694,\n",
       "  855118312145133568,\n",
       "  273654265,\n",
       "  326997650,\n",
       "  821558695389589506,\n",
       "  252691456,\n",
       "  29016665,\n",
       "  269907005,\n",
       "  2148233600,\n",
       "  53772036,\n",
       "  177087369,\n",
       "  15944436,\n",
       "  1006521]}"
      ]
     },
     "execution_count": 50,
     "metadata": {},
     "output_type": "execute_result"
    }
   ],
   "source": [
    "# users.find_one({'name': 'Fly4free'})\n",
    "\n",
    "filter={\n",
    "    'user_id': 42980370\n",
    "}\n",
    "\n",
    "result = client['tw_data']['friends'].find_one(\n",
    "  filter=filter\n",
    ")\n",
    "\n",
    "result"
   ]
  },
  {
   "cell_type": "code",
   "execution_count": 11,
   "metadata": {},
   "outputs": [
    {
     "data": {
      "text/plain": [
       "{'_id': ObjectId('60434f5adbd9ad1540bcfed6'),\n",
       " 'id': 95905646,\n",
       " 'name': 'Fly4free',\n",
       " 'screen_name': 'Fly4freepl',\n",
       " 'followers_count': 6976,\n",
       " 'friends_count': 93,\n",
       " 'listed_count': 91,\n",
       " 'favourites_count': 370}"
      ]
     },
     "execution_count": 11,
     "metadata": {},
     "output_type": "execute_result"
    }
   ],
   "source": [
    "users.find_one({'name': 'Fly4free'}, {'name':1, 'screen_name':1, 'id':1, 'followers_count':1, 'friends_count':1,\n",
    "                                     'listed_count':1, 'favourites_count':1})"
   ]
  },
  {
   "cell_type": "code",
   "execution_count": 18,
   "metadata": {},
   "outputs": [
    {
     "data": {
      "text/plain": [
       "{'TheSergeyS': {'id': 489228316,\n",
       "  'id_str': '489228316',\n",
       "  'name': 'Sergey_S',\n",
       "  'screen_name': 'TheSergeyS',\n",
       "  'location': 'Kyiv',\n",
       "  'description': '',\n",
       "  'url': None,\n",
       "  'entities': {'description': {'urls': []}},\n",
       "  'protected': False,\n",
       "  'followers_count': 0,\n",
       "  'friends_count': 81,\n",
       "  'listed_count': 0,\n",
       "  'created_at': 'Sat Feb 11 09:38:41 +0000 2012',\n",
       "  'favourites_count': 771,\n",
       "  'utc_offset': None,\n",
       "  'time_zone': None,\n",
       "  'geo_enabled': False,\n",
       "  'verified': False,\n",
       "  'statuses_count': 61,\n",
       "  'lang': None,\n",
       "  'status': {'created_at': 'Thu Feb 20 16:14:19 +0000 2020',\n",
       "   'id': 1230526100746506240,\n",
       "   'id_str': '1230526100746506240',\n",
       "   'text': 'RT @OlaaBoo: https://t.co/7he7APO8Ls',\n",
       "   'truncated': False,\n",
       "   'entities': {'hashtags': [],\n",
       "    'symbols': [],\n",
       "    'user_mentions': [{'screen_name': 'OlaaBoo',\n",
       "      'name': 'Ola Bo',\n",
       "      'id': 1113119749662179329,\n",
       "      'id_str': '1113119749662179329',\n",
       "      'indices': [3, 11]}],\n",
       "    'urls': [],\n",
       "    'media': [{'id': 1230468491787915265,\n",
       "      'id_str': '1230468491787915265',\n",
       "      'indices': [13, 36],\n",
       "      'media_url': 'http://pbs.twimg.com/media/EROAkvBUUAEPsLl.jpg',\n",
       "      'media_url_https': 'https://pbs.twimg.com/media/EROAkvBUUAEPsLl.jpg',\n",
       "      'url': 'https://t.co/7he7APO8Ls',\n",
       "      'display_url': 'pic.twitter.com/7he7APO8Ls',\n",
       "      'expanded_url': 'https://twitter.com/OlaaBoo/status/1230468497588834304/photo/1',\n",
       "      'type': 'photo',\n",
       "      'sizes': {'large': {'w': 750, 'h': 556, 'resize': 'fit'},\n",
       "       'thumb': {'w': 150, 'h': 150, 'resize': 'crop'},\n",
       "       'medium': {'w': 750, 'h': 556, 'resize': 'fit'},\n",
       "       'small': {'w': 680, 'h': 504, 'resize': 'fit'}},\n",
       "      'source_status_id': 1230468497588834304,\n",
       "      'source_status_id_str': '1230468497588834304',\n",
       "      'source_user_id': 1113119749662179329,\n",
       "      'source_user_id_str': '1113119749662179329'}]},\n",
       "   'extended_entities': {'media': [{'id': 1230468491787915265,\n",
       "      'id_str': '1230468491787915265',\n",
       "      'indices': [13, 36],\n",
       "      'media_url': 'http://pbs.twimg.com/media/EROAkvBUUAEPsLl.jpg',\n",
       "      'media_url_https': 'https://pbs.twimg.com/media/EROAkvBUUAEPsLl.jpg',\n",
       "      'url': 'https://t.co/7he7APO8Ls',\n",
       "      'display_url': 'pic.twitter.com/7he7APO8Ls',\n",
       "      'expanded_url': 'https://twitter.com/OlaaBoo/status/1230468497588834304/photo/1',\n",
       "      'type': 'photo',\n",
       "      'sizes': {'large': {'w': 750, 'h': 556, 'resize': 'fit'},\n",
       "       'thumb': {'w': 150, 'h': 150, 'resize': 'crop'},\n",
       "       'medium': {'w': 750, 'h': 556, 'resize': 'fit'},\n",
       "       'small': {'w': 680, 'h': 504, 'resize': 'fit'}},\n",
       "      'source_status_id': 1230468497588834304,\n",
       "      'source_status_id_str': '1230468497588834304',\n",
       "      'source_user_id': 1113119749662179329,\n",
       "      'source_user_id_str': '1113119749662179329'}]},\n",
       "   'source': '<a href=\"http://twitter.com/download/android\" rel=\"nofollow\">Twitter for Android</a>',\n",
       "   'in_reply_to_status_id': None,\n",
       "   'in_reply_to_status_id_str': None,\n",
       "   'in_reply_to_user_id': None,\n",
       "   'in_reply_to_user_id_str': None,\n",
       "   'in_reply_to_screen_name': None,\n",
       "   'geo': None,\n",
       "   'coordinates': None,\n",
       "   'place': None,\n",
       "   'contributors': None,\n",
       "   'retweeted_status': {'created_at': 'Thu Feb 20 12:25:25 +0000 2020',\n",
       "    'id': 1230468497588834304,\n",
       "    'id_str': '1230468497588834304',\n",
       "    'text': 'https://t.co/7he7APO8Ls',\n",
       "    'truncated': False,\n",
       "    'entities': {'hashtags': [],\n",
       "     'symbols': [],\n",
       "     'user_mentions': [],\n",
       "     'urls': [],\n",
       "     'media': [{'id': 1230468491787915265,\n",
       "       'id_str': '1230468491787915265',\n",
       "       'indices': [0, 23],\n",
       "       'media_url': 'http://pbs.twimg.com/media/EROAkvBUUAEPsLl.jpg',\n",
       "       'media_url_https': 'https://pbs.twimg.com/media/EROAkvBUUAEPsLl.jpg',\n",
       "       'url': 'https://t.co/7he7APO8Ls',\n",
       "       'display_url': 'pic.twitter.com/7he7APO8Ls',\n",
       "       'expanded_url': 'https://twitter.com/OlaaBoo/status/1230468497588834304/photo/1',\n",
       "       'type': 'photo',\n",
       "       'sizes': {'large': {'w': 750, 'h': 556, 'resize': 'fit'},\n",
       "        'thumb': {'w': 150, 'h': 150, 'resize': 'crop'},\n",
       "        'medium': {'w': 750, 'h': 556, 'resize': 'fit'},\n",
       "        'small': {'w': 680, 'h': 504, 'resize': 'fit'}}}]},\n",
       "    'extended_entities': {'media': [{'id': 1230468491787915265,\n",
       "       'id_str': '1230468491787915265',\n",
       "       'indices': [0, 23],\n",
       "       'media_url': 'http://pbs.twimg.com/media/EROAkvBUUAEPsLl.jpg',\n",
       "       'media_url_https': 'https://pbs.twimg.com/media/EROAkvBUUAEPsLl.jpg',\n",
       "       'url': 'https://t.co/7he7APO8Ls',\n",
       "       'display_url': 'pic.twitter.com/7he7APO8Ls',\n",
       "       'expanded_url': 'https://twitter.com/OlaaBoo/status/1230468497588834304/photo/1',\n",
       "       'type': 'photo',\n",
       "       'sizes': {'large': {'w': 750, 'h': 556, 'resize': 'fit'},\n",
       "        'thumb': {'w': 150, 'h': 150, 'resize': 'crop'},\n",
       "        'medium': {'w': 750, 'h': 556, 'resize': 'fit'},\n",
       "        'small': {'w': 680, 'h': 504, 'resize': 'fit'}}}]},\n",
       "    'source': '<a href=\"http://twitter.com/download/iphone\" rel=\"nofollow\">Twitter for iPhone</a>',\n",
       "    'in_reply_to_status_id': None,\n",
       "    'in_reply_to_status_id_str': None,\n",
       "    'in_reply_to_user_id': None,\n",
       "    'in_reply_to_user_id_str': None,\n",
       "    'in_reply_to_screen_name': None,\n",
       "    'geo': None,\n",
       "    'coordinates': None,\n",
       "    'place': None,\n",
       "    'contributors': None,\n",
       "    'is_quote_status': False,\n",
       "    'retweet_count': 3,\n",
       "    'favorite_count': 9,\n",
       "    'favorited': False,\n",
       "    'retweeted': True,\n",
       "    'possibly_sensitive': False,\n",
       "    'lang': 'und'},\n",
       "   'is_quote_status': False,\n",
       "   'retweet_count': 3,\n",
       "   'favorite_count': 0,\n",
       "   'favorited': False,\n",
       "   'retweeted': True,\n",
       "   'possibly_sensitive': False,\n",
       "   'lang': 'und'},\n",
       "  'contributors_enabled': False,\n",
       "  'is_translator': False,\n",
       "  'is_translation_enabled': False,\n",
       "  'profile_background_color': 'C0DEED',\n",
       "  'profile_background_image_url': 'http://abs.twimg.com/images/themes/theme1/bg.png',\n",
       "  'profile_background_image_url_https': 'https://abs.twimg.com/images/themes/theme1/bg.png',\n",
       "  'profile_background_tile': False,\n",
       "  'profile_image_url': 'http://abs.twimg.com/sticky/default_profile_images/default_profile_normal.png',\n",
       "  'profile_image_url_https': 'https://abs.twimg.com/sticky/default_profile_images/default_profile_normal.png',\n",
       "  'profile_link_color': '1DA1F2',\n",
       "  'profile_sidebar_border_color': 'C0DEED',\n",
       "  'profile_sidebar_fill_color': 'DDEEF6',\n",
       "  'profile_text_color': '333333',\n",
       "  'profile_use_background_image': True,\n",
       "  'has_extended_profile': False,\n",
       "  'default_profile': True,\n",
       "  'default_profile_image': True,\n",
       "  'following': False,\n",
       "  'follow_request_sent': False,\n",
       "  'notifications': False,\n",
       "  'translator_type': 'none',\n",
       "  'suspended': False,\n",
       "  'needs_phone_verification': False}}"
      ]
     },
     "execution_count": 18,
     "metadata": {},
     "output_type": "execute_result"
    }
   ],
   "source": [
    "tw.get_user_profile(twitter_api,screen_names=['TheSergeyS'])"
   ]
  },
  {
   "cell_type": "code",
   "execution_count": 32,
   "metadata": {},
   "outputs": [
    {
     "name": "stdout",
     "output_type": "stream",
     "text": [
      "(ObjectId('6043b24bce9d6f1ebd757d1c'), ObjectId('6043b24bce9d6f1ebd757d1d'))\n"
     ]
    }
   ],
   "source": [
    "# user_friends_followers_toDB(db, 489228316, friends_id, followers_ids)"
   ]
  },
  {
   "cell_type": "code",
   "execution_count": 40,
   "metadata": {},
   "outputs": [
    {
     "data": {
      "text/plain": [
       "list"
      ]
     },
     "execution_count": 40,
     "metadata": {},
     "output_type": "execute_result"
    }
   ],
   "source": [
    "# friends.find_one()['friends_id']"
   ]
  },
  {
   "cell_type": "code",
   "execution_count": 6,
   "metadata": {},
   "outputs": [
    {
     "name": "stderr",
     "output_type": "stream",
     "text": [
      "Fetched 14 total friends ids for 42980370\n",
      "Fetched 5000 total followers ids for 42980370\n",
      "Fetched 10000 total followers ids for 42980370\n",
      "Fetched 15000 total followers ids for 42980370\n",
      "Fetched 20000 total followers ids for 42980370\n",
      "Fetched 25000 total followers ids for 42980370\n",
      "Fetched 30000 total followers ids for 42980370\n",
      "Fetched 35000 total followers ids for 42980370\n",
      "Fetched 40000 total followers ids for 42980370\n",
      "Fetched 45000 total followers ids for 42980370\n",
      "Fetched 50000 total followers ids for 42980370\n",
      "Fetched 55000 total followers ids for 42980370\n",
      "Fetched 60000 total followers ids for 42980370\n",
      "Fetched 65000 total followers ids for 42980370\n",
      "Fetched 70000 total followers ids for 42980370\n",
      "Fetched 72628 total followers ids for 42980370\n"
     ]
    },
    {
     "data": {
      "text/plain": [
       "[1208882797336834054,\n",
       " 118938694,\n",
       " 855118312145133568,\n",
       " 273654265,\n",
       " 326997650,\n",
       " 821558695389589506,\n",
       " 252691456,\n",
       " 29016665,\n",
       " 269907005,\n",
       " 2148233600,\n",
       " 53772036,\n",
       " 177087369,\n",
       " 15944436,\n",
       " 1006521]"
      ]
     },
     "execution_count": 6,
     "metadata": {},
     "output_type": "execute_result"
    }
   ],
   "source": [
    "# 42980370 9to5Toys\n",
    "\n",
    "friends_id, followers_ids = tw.get_friends_followers_ids(twitter_api, user_id = 42980370)\n",
    "\n",
    "user_friends_followers_toDB(db, 42980370, friends_id, followers_ids)\n",
    "friends.find_one({'user_id': 42980370})['friends_id']\n",
    "\n",
    "# users_profile = tw.get_user_profile(twitter_api, user_ids = friends_id)\n",
    "# for key, value in users_profile.items():\n",
    "#     user_id = users.insert_one(value).inserted_id\n",
    "#     print(user_id)"
   ]
  },
  {
   "cell_type": "code",
   "execution_count": 13,
   "metadata": {},
   "outputs": [
    {
     "data": {
      "text/plain": [
       "(14, 72628)"
      ]
     },
     "execution_count": 13,
     "metadata": {},
     "output_type": "execute_result"
    }
   ],
   "source": [
    "len(friends_id), len(followers_ids)"
   ]
  },
  {
   "cell_type": "code",
   "execution_count": 15,
   "metadata": {},
   "outputs": [
    {
     "data": {
      "text/plain": [
       "(81, 2, 2)"
      ]
     },
     "execution_count": 15,
     "metadata": {},
     "output_type": "execute_result"
    }
   ],
   "source": [
    "users.count_documents({}), friends.count_documents({}), followers.count_documents({})"
   ]
  },
  {
   "cell_type": "code",
   "execution_count": 14,
   "metadata": {},
   "outputs": [
    {
     "data": {
      "text/plain": [
       "(ObjectId('604748efc88fbe4607e2280a'), ObjectId('604748efc88fbe4607e2280b'))"
      ]
     },
     "execution_count": 14,
     "metadata": {},
     "output_type": "execute_result"
    }
   ],
   "source": [
    "user_friends_followers_toDB(db, 42980370, friends_id, followers_ids)"
   ]
  },
  {
   "cell_type": "code",
   "execution_count": 25,
   "metadata": {},
   "outputs": [
    {
     "name": "stdout",
     "output_type": "stream",
     "text": [
      "None\n"
     ]
    }
   ],
   "source": [
    "print(friends.find_one({'id': '604748efc88fbe4607e2280a'}))"
   ]
  },
  {
   "cell_type": "code",
   "execution_count": 21,
   "metadata": {},
   "outputs": [
    {
     "data": {
      "text/plain": [
       "[1208882797336834054,\n",
       " 118938694,\n",
       " 855118312145133568,\n",
       " 273654265,\n",
       " 326997650,\n",
       " 821558695389589506,\n",
       " 252691456,\n",
       " 29016665,\n",
       " 269907005,\n",
       " 2148233600,\n",
       " 53772036,\n",
       " 177087369,\n",
       " 15944436,\n",
       " 1006521]"
      ]
     },
     "execution_count": 21,
     "metadata": {},
     "output_type": "execute_result"
    }
   ],
   "source": [
    "friends_id"
   ]
  },
  {
   "cell_type": "code",
   "execution_count": null,
   "metadata": {},
   "outputs": [],
   "source": []
  },
  {
   "cell_type": "code",
   "execution_count": 82,
   "metadata": {
    "scrolled": true
   },
   "outputs": [
    {
     "data": {
      "text/plain": [
       "[1057974587890298880,\n",
       " 186384811,\n",
       " 2450291,\n",
       " 42980370,\n",
       " 2813067186,\n",
       " 31311757,\n",
       " 38679388,\n",
       " 862574318345179137,\n",
       " 259718566,\n",
       " 2647840802,\n",
       " 3167734591,\n",
       " 814943028,\n",
       " 1329384353835733002,\n",
       " 3251395007,\n",
       " 705716689279782912,\n",
       " 1134414675612000256,\n",
       " 2774459358,\n",
       " 4012303169,\n",
       " 3351810969,\n",
       " 1656030284,\n",
       " 2208446722,\n",
       " 81580227,\n",
       " 198789818,\n",
       " 912607062030503936,\n",
       " 304787003,\n",
       " 589983379,\n",
       " 2575433509,\n",
       " 18909186,\n",
       " 14589119,\n",
       " 835532174686359552,\n",
       " 1267722202943836160,\n",
       " 2813416529,\n",
       " 2748608792,\n",
       " 212942638,\n",
       " 17460630,\n",
       " 20973687,\n",
       " 15339201,\n",
       " 431725554,\n",
       " 383733061,\n",
       " 19408929,\n",
       " 2827417134,\n",
       " 1120562504499855360,\n",
       " 1201186872,\n",
       " 772782688033992704,\n",
       " 425331893,\n",
       " 775715782495989761,\n",
       " 921637074,\n",
       " 1102047326,\n",
       " 745911914,\n",
       " 358639633,\n",
       " 393033324,\n",
       " 49572937,\n",
       " 860076704,\n",
       " 2460368252,\n",
       " 1849184514,\n",
       " 49413866,\n",
       " 2835746784,\n",
       " 3098427092,\n",
       " 2996502625,\n",
       " 484757080,\n",
       " 14159138,\n",
       " 459275531,\n",
       " 1307796572,\n",
       " 107032314,\n",
       " 2831618754,\n",
       " 68969676,\n",
       " 29409551,\n",
       " 253445158,\n",
       " 242011754,\n",
       " 96215272,\n",
       " 4746811407,\n",
       " 2883124529,\n",
       " 95905646,\n",
       " 2420360234,\n",
       " 4689725059,\n",
       " 52752441,\n",
       " 2730219313,\n",
       " 2354704231,\n",
       " 337910217,\n",
       " 2207788292,\n",
       " 2453418451]"
      ]
     },
     "execution_count": 82,
     "metadata": {},
     "output_type": "execute_result"
    }
   ],
   "source": [
    "query = db.friends.find_one()['friends_id']\n",
    "# users.find( {'id': { $in: db.friends.find({'user_id':42980370})['friends_id'] }} )\n",
    "list(users.find( {'id': query } ))\n",
    "query"
   ]
  },
  {
   "cell_type": "code",
   "execution_count": null,
   "metadata": {},
   "outputs": [],
   "source": [
    "db.inventory.find( { qty: { $in: [ 5, 15 ] } } )"
   ]
  },
  {
   "cell_type": "code",
   "execution_count": 48,
   "metadata": {
    "scrolled": true
   },
   "outputs": [
    {
     "data": {
      "text/plain": [
       "[{'_id': ObjectId('6047455dc88fbe4607e22808'),\n",
       "  'user_id': 42980370,\n",
       "  'friends_id': [1208882797336834054,\n",
       "   118938694,\n",
       "   855118312145133568,\n",
       "   273654265,\n",
       "   326997650,\n",
       "   821558695389589506,\n",
       "   252691456,\n",
       "   29016665,\n",
       "   269907005,\n",
       "   2148233600,\n",
       "   53772036,\n",
       "   177087369,\n",
       "   15944436,\n",
       "   1006521]}]"
      ]
     },
     "execution_count": 48,
     "metadata": {},
     "output_type": "execute_result"
    }
   ],
   "source": [
    "list(db.friends.find({'user_id': 42980370}))\n",
    "\n",
    "# friends.find_one()['friends_id']\n",
    "# ['friends_id']"
   ]
  },
  {
   "cell_type": "code",
   "execution_count": 73,
   "metadata": {},
   "outputs": [
    {
     "ename": "TypeError",
     "evalue": "index 'friends_id' cannot be applied to Cursor instances",
     "output_type": "error",
     "traceback": [
      "\u001b[1;31m---------------------------------------------------------------------------\u001b[0m",
      "\u001b[1;31mTypeError\u001b[0m                                 Traceback (most recent call last)",
      "\u001b[1;32m<ipython-input-73-05fb74a5a1d1>\u001b[0m in \u001b[0;36m<module>\u001b[1;34m\u001b[0m\n\u001b[1;32m----> 1\u001b[1;33m \u001b[0mfriends\u001b[0m\u001b[1;33m.\u001b[0m\u001b[0mfind\u001b[0m\u001b[1;33m(\u001b[0m \u001b[1;33m{\u001b[0m\u001b[1;34m'user_id'\u001b[0m\u001b[1;33m:\u001b[0m \u001b[1;36m42980370\u001b[0m\u001b[1;33m}\u001b[0m \u001b[1;33m)\u001b[0m\u001b[1;33m[\u001b[0m\u001b[1;34m'friends_id'\u001b[0m\u001b[1;33m]\u001b[0m\u001b[1;33m\u001b[0m\u001b[0m\n\u001b[0m",
      "\u001b[1;32mC:\\Python36\\lib\\site-packages\\pymongo\\cursor.py\u001b[0m in \u001b[0;36m__getitem__\u001b[1;34m(self, index)\u001b[0m\n\u001b[0;32m    649\u001b[0m             \u001b[1;32mraise\u001b[0m \u001b[0mIndexError\u001b[0m\u001b[1;33m(\u001b[0m\u001b[1;34m\"no such item for Cursor instance\"\u001b[0m\u001b[1;33m)\u001b[0m\u001b[1;33m\u001b[0m\u001b[0m\n\u001b[0;32m    650\u001b[0m         raise TypeError(\"index %r cannot be applied to Cursor \"\n\u001b[1;32m--> 651\u001b[1;33m                         \"instances\" % index)\n\u001b[0m\u001b[0;32m    652\u001b[0m \u001b[1;33m\u001b[0m\u001b[0m\n\u001b[0;32m    653\u001b[0m     \u001b[1;32mdef\u001b[0m \u001b[0mmax_scan\u001b[0m\u001b[1;33m(\u001b[0m\u001b[0mself\u001b[0m\u001b[1;33m,\u001b[0m \u001b[0mmax_scan\u001b[0m\u001b[1;33m)\u001b[0m\u001b[1;33m:\u001b[0m\u001b[1;33m\u001b[0m\u001b[0m\n",
      "\u001b[1;31mTypeError\u001b[0m: index 'friends_id' cannot be applied to Cursor instances"
     ]
    }
   ],
   "source": [
    "friends.find( {'user_id': 42980370} )['friends_id']"
   ]
  },
  {
   "cell_type": "code",
   "execution_count": 42,
   "metadata": {},
   "outputs": [],
   "source": [
    "c = friends.find({'_id': ObjectId('6047455dc88fbe4607e22808')})"
   ]
  },
  {
   "cell_type": "code",
   "execution_count": 29,
   "metadata": {},
   "outputs": [
    {
     "data": {
      "text/plain": [
       "(1, 81)"
      ]
     },
     "execution_count": 29,
     "metadata": {},
     "output_type": "execute_result"
    }
   ],
   "source": [
    "friends.count_documents({}), users.count_documents({}), "
   ]
  },
  {
   "cell_type": "code",
   "execution_count": 18,
   "metadata": {},
   "outputs": [
    {
     "data": {
      "text/plain": [
       "Collection(Database(MongoClient(host=['127.0.0.1:3979'], document_class=dict, tz_aware=False, connect=True), 'tw_data'), 'friends')"
      ]
     },
     "execution_count": 18,
     "metadata": {},
     "output_type": "execute_result"
    }
   ],
   "source": [
    "c.collection"
   ]
  },
  {
   "cell_type": "code",
   "execution_count": 23,
   "metadata": {},
   "outputs": [
    {
     "data": {
      "text/plain": [
       "<pymongo.cursor.Cursor at 0x1b105467390>"
      ]
     },
     "execution_count": 23,
     "metadata": {},
     "output_type": "execute_result"
    }
   ],
   "source": [
    "c"
   ]
  },
  {
   "cell_type": "code",
   "execution_count": 31,
   "metadata": {},
   "outputs": [
    {
     "data": {
      "text/plain": [
       "42980370"
      ]
     },
     "execution_count": 31,
     "metadata": {},
     "output_type": "execute_result"
    }
   ],
   "source": [
    "c[0]['user_id']"
   ]
  },
  {
   "cell_type": "code",
   "execution_count": 39,
   "metadata": {},
   "outputs": [
    {
     "data": {
      "text/plain": [
       "True"
      ]
     },
     "execution_count": 39,
     "metadata": {},
     "output_type": "execute_result"
    }
   ],
   "source": [
    "c.alive"
   ]
  },
  {
   "cell_type": "code",
   "execution_count": 37,
   "metadata": {},
   "outputs": [
    {
     "data": {
      "text/plain": [
       "<pymongo.cursor.Cursor at 0x1b1055f2be0>"
      ]
     },
     "execution_count": 37,
     "metadata": {},
     "output_type": "execute_result"
    }
   ],
   "source": [
    "c.clone()"
   ]
  },
  {
   "cell_type": "code",
   "execution_count": 40,
   "metadata": {},
   "outputs": [
    {
     "data": {
      "text/plain": [
       "{'queryPlanner': {'plannerVersion': 1,\n",
       "  'namespace': 'tw_data.friends',\n",
       "  'indexFilterSet': False,\n",
       "  'parsedQuery': {'_id': {'$eq': ObjectId('6047455dc88fbe4607e22808')}},\n",
       "  'winningPlan': {'stage': 'IDHACK'},\n",
       "  'rejectedPlans': []},\n",
       " 'executionStats': {'executionSuccess': True,\n",
       "  'nReturned': 1,\n",
       "  'executionTimeMillis': 113,\n",
       "  'totalKeysExamined': 1,\n",
       "  'totalDocsExamined': 1,\n",
       "  'executionStages': {'stage': 'IDHACK',\n",
       "   'nReturned': 1,\n",
       "   'executionTimeMillisEstimate': 0,\n",
       "   'works': 2,\n",
       "   'advanced': 1,\n",
       "   'needTime': 0,\n",
       "   'needYield': 0,\n",
       "   'saveState': 0,\n",
       "   'restoreState': 0,\n",
       "   'isEOF': 1,\n",
       "   'keysExamined': 1,\n",
       "   'docsExamined': 1},\n",
       "  'allPlansExecution': []},\n",
       " 'serverInfo': {'host': 'wi-pc180',\n",
       "  'port': 3979,\n",
       "  'version': '4.4.4',\n",
       "  'gitVersion': '8db30a63db1a9d84bdcad0c83369623f708e0397'},\n",
       " 'ok': 1.0}"
      ]
     },
     "execution_count": 40,
     "metadata": {},
     "output_type": "execute_result"
    }
   ],
   "source": [
    "c.explain()"
   ]
  },
  {
   "cell_type": "code",
   "execution_count": 43,
   "metadata": {},
   "outputs": [],
   "source": [
    "c.cursor_id"
   ]
  },
  {
   "cell_type": "code",
   "execution_count": 49,
   "metadata": {},
   "outputs": [
    {
     "data": {
      "text/plain": [
       "<pymongo.cursor.Cursor at 0x1b105cc7d68>"
      ]
     },
     "execution_count": 49,
     "metadata": {},
     "output_type": "execute_result"
    }
   ],
   "source": [
    "c1 = friends.find({'_id': ObjectId('6047455dc88fbe4607e22808')})\n",
    "c1"
   ]
  },
  {
   "cell_type": "code",
   "execution_count": 50,
   "metadata": {},
   "outputs": [
    {
     "data": {
      "text/plain": [
       "{'_id': ObjectId('6047455dc88fbe4607e22808'),\n",
       " 'user_id': 42980370,\n",
       " 'friends_id': [1208882797336834054,\n",
       "  118938694,\n",
       "  855118312145133568,\n",
       "  273654265,\n",
       "  326997650,\n",
       "  821558695389589506,\n",
       "  252691456,\n",
       "  29016665,\n",
       "  269907005,\n",
       "  2148233600,\n",
       "  53772036,\n",
       "  177087369,\n",
       "  15944436,\n",
       "  1006521]}"
      ]
     },
     "execution_count": 50,
     "metadata": {},
     "output_type": "execute_result"
    }
   ],
   "source": [
    "c1.next()"
   ]
  },
  {
   "cell_type": "code",
   "execution_count": 48,
   "metadata": {},
   "outputs": [
    {
     "ename": "StopIteration",
     "evalue": "",
     "output_type": "error",
     "traceback": [
      "\u001b[1;31m---------------------------------------------------------------------------\u001b[0m",
      "\u001b[1;31mStopIteration\u001b[0m                             Traceback (most recent call last)",
      "\u001b[1;32m<ipython-input-48-92e6361c0b8c>\u001b[0m in \u001b[0;36m<module>\u001b[1;34m\u001b[0m\n\u001b[1;32m----> 1\u001b[1;33m \u001b[0mc1\u001b[0m\u001b[1;33m.\u001b[0m\u001b[0mnext\u001b[0m\u001b[1;33m(\u001b[0m\u001b[1;33m)\u001b[0m\u001b[1;33m\u001b[0m\u001b[0m\n\u001b[0m",
      "\u001b[1;32mC:\\PSF\\PyProjects\\web\\test_flask\\venv\\lib\\site-packages\\pymongo\\cursor.py\u001b[0m in \u001b[0;36mnext\u001b[1;34m(self)\u001b[0m\n\u001b[0;32m   1213\u001b[0m                 \u001b[1;32mreturn\u001b[0m \u001b[0mself\u001b[0m\u001b[1;33m.\u001b[0m\u001b[0m__data\u001b[0m\u001b[1;33m.\u001b[0m\u001b[0mpopleft\u001b[0m\u001b[1;33m(\u001b[0m\u001b[1;33m)\u001b[0m\u001b[1;33m\u001b[0m\u001b[0m\n\u001b[0;32m   1214\u001b[0m         \u001b[1;32melse\u001b[0m\u001b[1;33m:\u001b[0m\u001b[1;33m\u001b[0m\u001b[0m\n\u001b[1;32m-> 1215\u001b[1;33m             \u001b[1;32mraise\u001b[0m \u001b[0mStopIteration\u001b[0m\u001b[1;33m\u001b[0m\u001b[0m\n\u001b[0m\u001b[0;32m   1216\u001b[0m \u001b[1;33m\u001b[0m\u001b[0m\n\u001b[0;32m   1217\u001b[0m     \u001b[0m__next__\u001b[0m \u001b[1;33m=\u001b[0m \u001b[0mnext\u001b[0m\u001b[1;33m\u001b[0m\u001b[0m\n",
      "\u001b[1;31mStopIteration\u001b[0m: "
     ]
    }
   ],
   "source": [
    "c1.next()"
   ]
  },
  {
   "cell_type": "code",
   "execution_count": 51,
   "metadata": {},
   "outputs": [
    {
     "data": {
      "text/plain": [
       "False"
      ]
     },
     "execution_count": 51,
     "metadata": {},
     "output_type": "execute_result"
    }
   ],
   "source": [
    "c1.alive"
   ]
  },
  {
   "cell_type": "code",
   "execution_count": 52,
   "metadata": {},
   "outputs": [
    {
     "data": {
      "text/plain": [
       "<pymongo.results.InsertManyResult at 0x1b1059eda88>"
      ]
     },
     "execution_count": 52,
     "metadata": {},
     "output_type": "execute_result"
    }
   ],
   "source": [
    "db.inventory.insert_many([\n",
    "    {\"item\": \"journal\",\n",
    "     \"qty\": 25,\n",
    "     \"tags\": [\"blank\", \"red\"],\n",
    "     \"dim_cm\": [14, 21]},\n",
    "    {\"item\": \"notebook\",\n",
    "     \"qty\": 50,\n",
    "     \"tags\": [\"red\", \"blank\"],\n",
    "     \"dim_cm\": [14, 21]},\n",
    "    {\"item\": \"paper\",\n",
    "     \"qty\": 100,\n",
    "     \"tags\": [\"red\", \"blank\", \"plain\"],\n",
    "     \"dim_cm\": [14, 21]},\n",
    "    {\"item\": \"planner\",\n",
    "     \"qty\": 75,\n",
    "     \"tags\": [\"blank\", \"red\"],\n",
    "     \"dim_cm\": [22.85, 30]},\n",
    "    {\"item\": \"postcard\",\n",
    "     \"qty\": 45,\n",
    "     \"tags\": [\"blue\"],\n",
    "     \"dim_cm\": [10, 15.25]}])"
   ]
  },
  {
   "cell_type": "code",
   "execution_count": 53,
   "metadata": {},
   "outputs": [
    {
     "data": {
      "text/plain": [
       "[{'_id': ObjectId('6050d2b32ce3729c66c4e62d'),\n",
       "  'item': 'notebook',\n",
       "  'qty': 50,\n",
       "  'tags': ['red', 'blank'],\n",
       "  'dim_cm': [14, 21]}]"
      ]
     },
     "execution_count": 53,
     "metadata": {},
     "output_type": "execute_result"
    }
   ],
   "source": [
    "list(db.inventory.find({\"tags\": [\"red\", \"blank\"]}))"
   ]
  },
  {
   "cell_type": "code",
   "execution_count": 55,
   "metadata": {},
   "outputs": [
    {
     "data": {
      "text/plain": [
       "[{'_id': ObjectId('6050d2b32ce3729c66c4e62c'),\n",
       "  'item': 'journal',\n",
       "  'qty': 25,\n",
       "  'tags': ['blank', 'red'],\n",
       "  'dim_cm': [14, 21]},\n",
       " {'_id': ObjectId('6050d2b32ce3729c66c4e62d'),\n",
       "  'item': 'notebook',\n",
       "  'qty': 50,\n",
       "  'tags': ['red', 'blank'],\n",
       "  'dim_cm': [14, 21]},\n",
       " {'_id': ObjectId('6050d2b32ce3729c66c4e62e'),\n",
       "  'item': 'paper',\n",
       "  'qty': 100,\n",
       "  'tags': ['red', 'blank', 'plain'],\n",
       "  'dim_cm': [14, 21]},\n",
       " {'_id': ObjectId('6050d2b32ce3729c66c4e62f'),\n",
       "  'item': 'planner',\n",
       "  'qty': 75,\n",
       "  'tags': ['blank', 'red'],\n",
       "  'dim_cm': [22.85, 30]}]"
      ]
     },
     "execution_count": 55,
     "metadata": {},
     "output_type": "execute_result"
    }
   ],
   "source": [
    "list(db.inventory.find({\"tags\": {\"$all\": [\"red\", \"blank\"]}}))"
   ]
  },
  {
   "cell_type": "code",
   "execution_count": 56,
   "metadata": {},
   "outputs": [
    {
     "data": {
      "text/plain": [
       "[{'_id': ObjectId('6050d2b32ce3729c66c4e62c'),\n",
       "  'item': 'journal',\n",
       "  'qty': 25,\n",
       "  'tags': ['blank', 'red'],\n",
       "  'dim_cm': [14, 21]},\n",
       " {'_id': ObjectId('6050d2b32ce3729c66c4e62d'),\n",
       "  'item': 'notebook',\n",
       "  'qty': 50,\n",
       "  'tags': ['red', 'blank'],\n",
       "  'dim_cm': [14, 21]},\n",
       " {'_id': ObjectId('6050d2b32ce3729c66c4e62e'),\n",
       "  'item': 'paper',\n",
       "  'qty': 100,\n",
       "  'tags': ['red', 'blank', 'plain'],\n",
       "  'dim_cm': [14, 21]},\n",
       " {'_id': ObjectId('6050d2b32ce3729c66c4e62f'),\n",
       "  'item': 'planner',\n",
       "  'qty': 75,\n",
       "  'tags': ['blank', 'red'],\n",
       "  'dim_cm': [22.85, 30]},\n",
       " {'_id': ObjectId('6050d62db935e26514f35c74'),\n",
       "  'item': 'journal_test',\n",
       "  'qty': 2555,\n",
       "  'tags': ['red'],\n",
       "  'dim_cm': [141, 212]}]"
      ]
     },
     "execution_count": 56,
     "metadata": {},
     "output_type": "execute_result"
    }
   ],
   "source": [
    "list(db.inventory.find({\"tags\": \"red\"}))"
   ]
  },
  {
   "cell_type": "code",
   "execution_count": 57,
   "metadata": {
    "scrolled": true
   },
   "outputs": [
    {
     "data": {
      "text/plain": [
       "['',\n",
       " '#Київ / #Kyiv 🇺🇦',\n",
       " 'California, USA',\n",
       " 'Doha, Qatar',\n",
       " 'FJCVTZS instruction on Arm v8',\n",
       " 'Istanbul',\n",
       " 'JetBrains s.r.o.',\n",
       " 'Kiev, Ukraine ',\n",
       " 'Kyiv',\n",
       " 'Kyiv, Ukraine',\n",
       " 'Kyiv, Ukriane',\n",
       " 'Los Angeles, CA',\n",
       " 'Lviv',\n",
       " 'Mondsee | Austria',\n",
       " 'Mountain View, CA',\n",
       " 'Odesa',\n",
       " 'Portland, OR USA',\n",
       " 'Reddit',\n",
       " 'Redmond, WA, USA',\n",
       " 'San Luis Obispo, CA',\n",
       " 'Santa Clara, CA',\n",
       " 'Silly Valley',\n",
       " 'The Future',\n",
       " 'The Internet',\n",
       " 'Ukraine',\n",
       " 'Ukraine, Kyiv',\n",
       " 'Ukrainian Revolution',\n",
       " 'United States',\n",
       " 'Uppsala, Sweden',\n",
       " 'Uranus',\n",
       " 'Vancouver, WA',\n",
       " 'https://github.com/ipython',\n",
       " 'Киев',\n",
       " 'Киев-Донецк',\n",
       " 'Київ',\n",
       " 'Москва',\n",
       " 'Торонто',\n",
       " 'Украина',\n",
       " 'Украина, Київ',\n",
       " 'Україна',\n",
       " 'Україна, м. Київ',\n",
       " 'з чужого ІР']"
      ]
     },
     "execution_count": 57,
     "metadata": {},
     "output_type": "execute_result"
    }
   ],
   "source": [
    "users.distinct('location')"
   ]
  },
  {
   "cell_type": "code",
   "execution_count": 59,
   "metadata": {},
   "outputs": [
    {
     "ename": "SyntaxError",
     "evalue": "invalid syntax (<ipython-input-59-9054d6a75340>, line 1)",
     "output_type": "error",
     "traceback": [
      "\u001b[1;36m  File \u001b[1;32m\"<ipython-input-59-9054d6a75340>\"\u001b[1;36m, line \u001b[1;32m1\u001b[0m\n\u001b[1;33m    users.aggregate([{ $match: { location: \"Москва\" } }])\u001b[0m\n\u001b[1;37m                       ^\u001b[0m\n\u001b[1;31mSyntaxError\u001b[0m\u001b[1;31m:\u001b[0m invalid syntax\n"
     ]
    }
   ],
   "source": [
    "users.aggregate([{$match: { location: \"Москва\" } }])"
   ]
  },
  {
   "cell_type": "code",
   "execution_count": 61,
   "metadata": {
    "scrolled": true
   },
   "outputs": [
    {
     "data": {
      "text/plain": [
       "{'_id': ObjectId('6042436334b02a303c4420b5'),\n",
       " 'id': 52752441,\n",
       " 'id_str': '52752441',\n",
       " 'name': 'Vitaly Portnikov',\n",
       " 'screen_name': 'portnikov',\n",
       " 'location': 'Kiev, Ukraine ',\n",
       " 'description': 'Journalist. Political Analyst.',\n",
       " 'url': 'http://t.co/oHGGp91LtZ',\n",
       " 'entities': {'url': {'urls': [{'url': 'http://t.co/oHGGp91LtZ',\n",
       "     'expanded_url': 'http://www.facebook.com/portnikov',\n",
       "     'display_url': 'facebook.com/portnikov',\n",
       "     'indices': [0, 22]}]},\n",
       "  'description': {'urls': []}},\n",
       " 'protected': False,\n",
       " 'followers_count': 281156,\n",
       " 'friends_count': 169,\n",
       " 'listed_count': 1014,\n",
       " 'created_at': 'Wed Jul 01 15:18:19 +0000 2009',\n",
       " 'favourites_count': 21,\n",
       " 'utc_offset': None,\n",
       " 'time_zone': None,\n",
       " 'geo_enabled': True,\n",
       " 'verified': False,\n",
       " 'statuses_count': 15678,\n",
       " 'lang': None,\n",
       " 'status': {'created_at': 'Fri Mar 05 14:33:07 +0000 2021',\n",
       "  'id': 1367845636595474438,\n",
       "  'id_str': '1367845636595474438',\n",
       "  'text': 'Судя по интервью словацкого премьера, его как раз интересовала именно российская вакцина – не случайно же глава пра… https://t.co/kM1l193HYa',\n",
       "  'truncated': True,\n",
       "  'entities': {'hashtags': [],\n",
       "   'symbols': [],\n",
       "   'user_mentions': [],\n",
       "   'urls': [{'url': 'https://t.co/kM1l193HYa',\n",
       "     'expanded_url': 'https://twitter.com/i/web/status/1367845636595474438',\n",
       "     'display_url': 'twitter.com/i/web/status/1…',\n",
       "     'indices': [117, 140]}]},\n",
       "  'source': '<a href=\"http://twitter.com/download/iphone\" rel=\"nofollow\">Twitter for iPhone</a>',\n",
       "  'in_reply_to_status_id': None,\n",
       "  'in_reply_to_status_id_str': None,\n",
       "  'in_reply_to_user_id': None,\n",
       "  'in_reply_to_user_id_str': None,\n",
       "  'in_reply_to_screen_name': None,\n",
       "  'geo': None,\n",
       "  'coordinates': None,\n",
       "  'place': None,\n",
       "  'contributors': None,\n",
       "  'is_quote_status': False,\n",
       "  'retweet_count': 4,\n",
       "  'favorite_count': 11,\n",
       "  'favorited': False,\n",
       "  'retweeted': False,\n",
       "  'possibly_sensitive': False,\n",
       "  'lang': 'ru'},\n",
       " 'contributors_enabled': False,\n",
       " 'is_translator': False,\n",
       " 'is_translation_enabled': False,\n",
       " 'profile_background_color': 'C0DEED',\n",
       " 'profile_background_image_url': 'http://abs.twimg.com/images/themes/theme1/bg.png',\n",
       " 'profile_background_image_url_https': 'https://abs.twimg.com/images/themes/theme1/bg.png',\n",
       " 'profile_background_tile': False,\n",
       " 'profile_image_url': 'http://pbs.twimg.com/profile_images/612038743332155392/LEbvI1y2_normal.jpg',\n",
       " 'profile_image_url_https': 'https://pbs.twimg.com/profile_images/612038743332155392/LEbvI1y2_normal.jpg',\n",
       " 'profile_banner_url': 'https://pbs.twimg.com/profile_banners/52752441/1389646032',\n",
       " 'profile_link_color': 'B30089',\n",
       " 'profile_sidebar_border_color': 'C0DEED',\n",
       " 'profile_sidebar_fill_color': 'DDEEF6',\n",
       " 'profile_text_color': '333333',\n",
       " 'profile_use_background_image': True,\n",
       " 'has_extended_profile': False,\n",
       " 'default_profile': False,\n",
       " 'default_profile_image': False,\n",
       " 'following': True,\n",
       " 'follow_request_sent': False,\n",
       " 'notifications': False,\n",
       " 'translator_type': 'none'}"
      ]
     },
     "execution_count": 61,
     "metadata": {},
     "output_type": "execute_result"
    }
   ],
   "source": [
    "users.find({'location': 'Kiev, Ukraine '})[0]"
   ]
  },
  {
   "cell_type": "code",
   "execution_count": 79,
   "metadata": {
    "scrolled": true
   },
   "outputs": [
    {
     "data": {
      "text/plain": [
       "[{'name': 'Snowie', 'location': 'Киев-Донецк'},\n",
       " {'name': 'Vitaly Portnikov', 'location': 'Kiev, Ukraine '},\n",
       " {'name': 'Роман Цимбалюк', 'location': 'Москва'},\n",
       " {'name': 'ШаЛєна Місія', 'location': 'з чужого ІР'},\n",
       " {'name': 'баварская_колбаска', 'location': 'Киев'}]"
      ]
     },
     "execution_count": 79,
     "metadata": {},
     "output_type": "execute_result"
    }
   ],
   "source": [
    "filter = {'location': {'$in': ['Москва', 'Kiev, Ukraine ', 'Киев', 'Киев-Донецк', 'з чужого ІР']}}\n",
    "project = {'name': 1, 'location': 1, '_id': 0}\n",
    "# sort = list({'name': 1}.items())\n",
    "sort = [('name', 1)]\n",
    "list(users.find(filter = filter, projection=project, sort = sort ))"
   ]
  },
  {
   "cell_type": "code",
   "execution_count": 82,
   "metadata": {},
   "outputs": [
    {
     "data": {
      "text/plain": [
       "<pymongo.cursor.Cursor at 0x1b105e7b710>"
      ]
     },
     "execution_count": 82,
     "metadata": {},
     "output_type": "execute_result"
    }
   ],
   "source": [
    "users.find().sort(sort)"
   ]
  },
  {
   "cell_type": "code",
   "execution_count": 85,
   "metadata": {},
   "outputs": [],
   "source": [
    "s1 = set([1,2,3])"
   ]
  },
  {
   "cell_type": "code",
   "execution_count": 86,
   "metadata": {},
   "outputs": [
    {
     "data": {
      "text/plain": [
       "{1, 2, 3}"
      ]
     },
     "execution_count": 86,
     "metadata": {},
     "output_type": "execute_result"
    }
   ],
   "source": [
    "s1 = set(list(users))"
   ]
  },
  {
   "cell_type": "code",
   "execution_count": 88,
   "metadata": {
    "scrolled": true
   },
   "outputs": [
    {
     "data": {
      "text/plain": [
       "[{'name': 'дїїїїїїїдько'},\n",
       " {'name': 'отличная хрестоматийная cougar'},\n",
       " {'name': 'BBC Learning English'},\n",
       " {'name': '9to5Toys'},\n",
       " {'name': 'Kіевлянинъ'},\n",
       " {'name': 'Google Maps'},\n",
       " {'name': 'Gmail'},\n",
       " {'name': 'КМДА'},\n",
       " {'name': 'Денис Казанський'},\n",
       " {'name': 'Hon. Judge Dredd'},\n",
       " {'name': 'Visual Studio Code'},\n",
       " {'name': 'Віталій Кличко'},\n",
       " {'name': 'nauka.ua'},\n",
       " {'name': 'B&B Project'},\n",
       " {'name': 'FanlessTech'},\n",
       " {'name': 'Kostiantyn Yelisieiev'},\n",
       " {'name': 'Олег  Пономарь'},\n",
       " {'name': 'Адам Смит'},\n",
       " {'name': 'OpenStreetMap UA'},\n",
       " {'name': 'Українська Вікіпедія'},\n",
       " {'name': 'Yevstraty Zoria'},\n",
       " {'name': 'Andreas Banderas'},\n",
       " {'name': 'Citroën'},\n",
       " {'name': 'баварская_колбаска'},\n",
       " {'name': 'Tube Time'},\n",
       " {'name': 'Olga V. Pettersson'},\n",
       " {'name': 'Красень Κиїв'},\n",
       " {'name': 'Turkish Airlines'},\n",
       " {'name': 'Qatar Airways'},\n",
       " {'name': 'Na chasi'},\n",
       " {'name': 'Mykhaylo Demkiv / Михайло Демків'},\n",
       " {'name': 'Все о США'},\n",
       " {'name': 'Пан ZÆбафаній жівчік♒м™'},\n",
       " {'name': \"Men's Corner\"},\n",
       " {'name': 'Амбасадор Троєщини'},\n",
       " {'name': 'Yevgeniy Mudzhyri™'},\n",
       " {'name': 'iFixit'},\n",
       " {'name': 'Роман Цимбалюк'},\n",
       " {'name': 'Pavlo Klimkin'},\n",
       " {'name': 'Central Bank Rates'},\n",
       " {'name': 'Мова – ДНК нації'},\n",
       " {'name': 'Голобородько'},\n",
       " {'name': 'r/DataIsBeautiful'},\n",
       " {'name': 'Яніна Соколова'},\n",
       " {'name': 'ШаЛєна Місія'},\n",
       " {'name': 'Python LibHunt'},\n",
       " {'name': 'РuŦyƛA-С'},\n",
       " {'name': 'MIL.IN.UA'},\n",
       " {'name': 'Real Python'},\n",
       " {'name': 'Ebanoe IT'},\n",
       " {'name': 'Data Science Central'},\n",
       " {'name': 'TEXTY.Org.Ua'},\n",
       " {'name': 'IPython Developers'},\n",
       " {'name': 'Project Jupyter'},\n",
       " {'name': '/r/Python Popular'},\n",
       " {'name': 'Randy Olson'},\n",
       " {'name': 'import python 🐍'},\n",
       " {'name': 'Talk Python Podcast'},\n",
       " {'name': 'Full Stack Python'},\n",
       " {'name': 'PyCoder’s Weekly'},\n",
       " {'name': 'Raymond Hettinger'},\n",
       " {'name': 'JavaScript Daily'},\n",
       " {'name': 'JetBrains WebStorm'},\n",
       " {'name': 'JetBrains PyCharm'},\n",
       " {'name': 'Prometheus'},\n",
       " {'name': 'ЛІГА.net'},\n",
       " {'name': 'Max Nefyodov'},\n",
       " {'name': 'Peter Shuklinov'},\n",
       " {'name': 'Lowcost.UA'},\n",
       " {'name': 'Роман Донік'},\n",
       " {'name': 'Капітан Прайс'},\n",
       " {'name': 'Сайгон'},\n",
       " {'name': 'Fly4free'},\n",
       " {'name': 'LowcostAvia'},\n",
       " {'name': 'Sni'},\n",
       " {'name': 'Vitaly Portnikov'},\n",
       " {'name': 'ДК УкрОборонПром'},\n",
       " {'name': 'Тупые запросы в гугле'},\n",
       " {'name': 'Snowie'},\n",
       " {'name': 'ЄВРОМАЙДАН'},\n",
       " {'name': 'Петр и Мазепа'}]"
      ]
     },
     "execution_count": 88,
     "metadata": {},
     "output_type": "execute_result"
    }
   ],
   "source": [
    "project = {'name': 1, '_id': 0}\n",
    "list(users.find(projection=project))"
   ]
  },
  {
   "cell_type": "code",
   "execution_count": 89,
   "metadata": {
    "scrolled": true
   },
   "outputs": [
    {
     "data": {
      "text/plain": [
       "['/r/Python Popular',\n",
       " '9to5Toys',\n",
       " 'Andreas Banderas',\n",
       " 'B&B Project',\n",
       " 'BBC Learning English',\n",
       " 'Central Bank Rates',\n",
       " 'Citroën',\n",
       " 'Data Science Central',\n",
       " 'Ebanoe IT',\n",
       " 'FanlessTech',\n",
       " 'Fly4free',\n",
       " 'Full Stack Python',\n",
       " 'Gmail',\n",
       " 'Google Maps',\n",
       " 'Hon. Judge Dredd',\n",
       " 'IPython Developers',\n",
       " 'JavaScript Daily',\n",
       " 'JetBrains PyCharm',\n",
       " 'JetBrains WebStorm',\n",
       " 'Kostiantyn Yelisieiev',\n",
       " 'Kіевлянинъ',\n",
       " 'Lowcost.UA',\n",
       " 'LowcostAvia',\n",
       " 'MIL.IN.UA',\n",
       " 'Max Nefyodov',\n",
       " \"Men's Corner\",\n",
       " 'Mykhaylo Demkiv / Михайло Демків',\n",
       " 'Na chasi',\n",
       " 'Olga V. Pettersson',\n",
       " 'OpenStreetMap UA',\n",
       " 'Pavlo Klimkin',\n",
       " 'Peter Shuklinov',\n",
       " 'Project Jupyter',\n",
       " 'Prometheus',\n",
       " 'PyCoder’s Weekly',\n",
       " 'Python LibHunt',\n",
       " 'Qatar Airways',\n",
       " 'Randy Olson',\n",
       " 'Raymond Hettinger',\n",
       " 'Real Python',\n",
       " 'Sni',\n",
       " 'Snowie',\n",
       " 'TEXTY.Org.Ua',\n",
       " 'Talk Python Podcast',\n",
       " 'Tube Time',\n",
       " 'Turkish Airlines',\n",
       " 'Visual Studio Code',\n",
       " 'Vitaly Portnikov',\n",
       " 'Yevgeniy Mudzhyri™',\n",
       " 'Yevstraty Zoria',\n",
       " 'iFixit',\n",
       " 'import python 🐍',\n",
       " 'nauka.ua',\n",
       " 'r/DataIsBeautiful',\n",
       " 'ЄВРОМАЙДАН',\n",
       " 'Адам Смит',\n",
       " 'Амбасадор Троєщини',\n",
       " 'Все о США',\n",
       " 'Віталій Кличко',\n",
       " 'Голобородько',\n",
       " 'ДК УкрОборонПром',\n",
       " 'Денис Казанський',\n",
       " 'КМДА',\n",
       " 'Капітан Прайс',\n",
       " 'Красень Κиїв',\n",
       " 'ЛІГА.net',\n",
       " 'Мова – ДНК нації',\n",
       " 'Олег  Пономарь',\n",
       " 'Пан ZÆбафаній жівчік♒м™',\n",
       " 'Петр и Мазепа',\n",
       " 'РuŦyƛA-С',\n",
       " 'Роман Донік',\n",
       " 'Роман Цимбалюк',\n",
       " 'Сайгон',\n",
       " 'Тупые запросы в гугле',\n",
       " 'Українська Вікіпедія',\n",
       " 'ШаЛєна Місія',\n",
       " 'Яніна Соколова',\n",
       " 'баварская_колбаска',\n",
       " 'дїїїїїїїдько',\n",
       " 'отличная хрестоматийная cougar']"
      ]
     },
     "execution_count": 89,
     "metadata": {},
     "output_type": "execute_result"
    }
   ],
   "source": [
    "users.distinct('name')"
   ]
  },
  {
   "cell_type": "code",
   "execution_count": 93,
   "metadata": {},
   "outputs": [],
   "source": [
    "s1 = set(users.distinct('id'))"
   ]
  },
  {
   "cell_type": "code",
   "execution_count": 94,
   "metadata": {
    "scrolled": true
   },
   "outputs": [
    {
     "data": {
      "text/plain": [
       "{2450291,\n",
       " 14159138,\n",
       " 14589119,\n",
       " 15339201,\n",
       " 17460630,\n",
       " 18909186,\n",
       " 19408929,\n",
       " 20973687,\n",
       " 29409551,\n",
       " 31311757,\n",
       " 38679388,\n",
       " 42980370,\n",
       " 49413866,\n",
       " 49572937,\n",
       " 52752441,\n",
       " 68969676,\n",
       " 81580227,\n",
       " 95905646,\n",
       " 96215272,\n",
       " 107032314,\n",
       " 186384811,\n",
       " 198789818,\n",
       " 212942638,\n",
       " 242011754,\n",
       " 253445158,\n",
       " 259718566,\n",
       " 304787003,\n",
       " 337910217,\n",
       " 358639633,\n",
       " 383733061,\n",
       " 393033324,\n",
       " 425331893,\n",
       " 431725554,\n",
       " 459275531,\n",
       " 484757080,\n",
       " 589983379,\n",
       " 745911914,\n",
       " 814943028,\n",
       " 860076704,\n",
       " 921637074,\n",
       " 1102047326,\n",
       " 1201186872,\n",
       " 1307796572,\n",
       " 1656030284,\n",
       " 1849184514,\n",
       " 2207788292,\n",
       " 2208446722,\n",
       " 2354704231,\n",
       " 2420360234,\n",
       " 2453418451,\n",
       " 2460368252,\n",
       " 2575433509,\n",
       " 2647840802,\n",
       " 2730219313,\n",
       " 2748608792,\n",
       " 2774459358,\n",
       " 2813067186,\n",
       " 2813416529,\n",
       " 2827417134,\n",
       " 2831618754,\n",
       " 2835746784,\n",
       " 2883124529,\n",
       " 2996502625,\n",
       " 3098427092,\n",
       " 3167734591,\n",
       " 3251395007,\n",
       " 3351810969,\n",
       " 4012303169,\n",
       " 4689725059,\n",
       " 4746811407,\n",
       " 705716689279782912,\n",
       " 772782688033992704,\n",
       " 775715782495989761,\n",
       " 835532174686359552,\n",
       " 862574318345179137,\n",
       " 912607062030503936,\n",
       " 1057974587890298880,\n",
       " 1120562504499855360,\n",
       " 1134414675612000256,\n",
       " 1267722202943836160,\n",
       " 1329384353835733002}"
      ]
     },
     "execution_count": 94,
     "metadata": {},
     "output_type": "execute_result"
    }
   ],
   "source": [
    "s1"
   ]
  },
  {
   "cell_type": "code",
   "execution_count": 92,
   "metadata": {},
   "outputs": [
    {
     "name": "stderr",
     "output_type": "stream",
     "text": [
      "Fetched 79 total friends ids for 489228316\n",
      "Fetched 0 total followers ids for 489228316\n"
     ]
    }
   ],
   "source": [
    "friends_id, followers_ids = tw.get_friends_followers_ids(twitter_api, user_id = 489228316)"
   ]
  },
  {
   "cell_type": "code",
   "execution_count": 95,
   "metadata": {},
   "outputs": [],
   "source": [
    "s2 = set(friends_id)"
   ]
  },
  {
   "cell_type": "code",
   "execution_count": 98,
   "metadata": {
    "scrolled": true
   },
   "outputs": [
    {
     "data": {
      "text/plain": [
       "{2883124529, 1057974587890298880}"
      ]
     },
     "execution_count": 98,
     "metadata": {},
     "output_type": "execute_result"
    }
   ],
   "source": [
    "s1.difference(s2)"
   ]
  },
  {
   "cell_type": "code",
   "execution_count": 108,
   "metadata": {},
   "outputs": [
    {
     "data": {
      "text/plain": [
       "[{'_id': ObjectId('6042436234b02a303c44206a'),\n",
       "  'name': 'дїїїїїїїдько',\n",
       "  'screen_name': 'shagintops'},\n",
       " {'_id': ObjectId('6042436334b02a303c4420b1'),\n",
       "  'name': 'Сайгон',\n",
       "  'screen_name': 'Huyovyi_Kolhoz'}]"
      ]
     },
     "execution_count": 108,
     "metadata": {},
     "output_type": "execute_result"
    }
   ],
   "source": [
    "list(users.find({'id': {'$in': [2883124529, 1057974587890298880]}}, {'name': 1, 'screen_name': 1}))"
   ]
  },
  {
   "cell_type": "code",
   "execution_count": 109,
   "metadata": {},
   "outputs": [
    {
     "data": {
      "text/plain": [
       "[{'_id': ObjectId('6042436234b02a303c442081'),\n",
       "  'id': 912607062030503936,\n",
       "  'id_str': '912607062030503936',\n",
       "  'name': 'баварская_колбаска',\n",
       "  'screen_name': 'bavar_kolbaska',\n",
       "  'location': 'Киев',\n",
       "  'description': 'Нет вещей, которые я не умею делать, есть вещи, которые я делать ещё не пробовал 🙃',\n",
       "  'url': 'https://t.co/OiJ4f2GTkp',\n",
       "  'entities': {'url': {'urls': [{'url': 'https://t.co/OiJ4f2GTkp',\n",
       "      'expanded_url': 'https://t.me/haiko_furniture',\n",
       "      'display_url': 't.me/haiko_furniture',\n",
       "      'indices': [0, 23]}]},\n",
       "   'description': {'urls': []}},\n",
       "  'protected': False,\n",
       "  'followers_count': 450,\n",
       "  'friends_count': 16,\n",
       "  'listed_count': 2,\n",
       "  'created_at': 'Tue Sep 26 09:17:33 +0000 2017',\n",
       "  'favourites_count': 4266,\n",
       "  'utc_offset': None,\n",
       "  'time_zone': None,\n",
       "  'geo_enabled': True,\n",
       "  'verified': False,\n",
       "  'statuses_count': 488,\n",
       "  'lang': None,\n",
       "  'status': {'created_at': 'Thu Mar 04 09:56:47 +0000 2021',\n",
       "   'id': 1367413704619413506,\n",
       "   'id_str': '1367413704619413506',\n",
       "   'text': '@huntakit7 @taranenko Соудал для панелей и плинтусов. По сути тот же момент, только оочень густой.',\n",
       "   'truncated': False,\n",
       "   'entities': {'hashtags': [],\n",
       "    'symbols': [],\n",
       "    'user_mentions': [{'screen_name': 'huntakit7',\n",
       "      'name': 'Сергій Васильківський',\n",
       "      'id': 1243804807573405698,\n",
       "      'id_str': '1243804807573405698',\n",
       "      'indices': [0, 10]},\n",
       "     {'screen_name': 'taranenko',\n",
       "      'name': 'Амбасадор Троєщини',\n",
       "      'id': 17460630,\n",
       "      'id_str': '17460630',\n",
       "      'indices': [11, 21]}],\n",
       "    'urls': []},\n",
       "   'source': '<a href=\"http://twitter.com/download/android\" rel=\"nofollow\">Twitter for Android</a>',\n",
       "   'in_reply_to_status_id': 1367412675697930240,\n",
       "   'in_reply_to_status_id_str': '1367412675697930240',\n",
       "   'in_reply_to_user_id': 1243804807573405698,\n",
       "   'in_reply_to_user_id_str': '1243804807573405698',\n",
       "   'in_reply_to_screen_name': 'huntakit7',\n",
       "   'geo': None,\n",
       "   'coordinates': None,\n",
       "   'place': None,\n",
       "   'contributors': None,\n",
       "   'is_quote_status': False,\n",
       "   'retweet_count': 0,\n",
       "   'favorite_count': 1,\n",
       "   'favorited': False,\n",
       "   'retweeted': False,\n",
       "   'lang': 'ru'},\n",
       "  'contributors_enabled': False,\n",
       "  'is_translator': False,\n",
       "  'is_translation_enabled': False,\n",
       "  'profile_background_color': 'F5F8FA',\n",
       "  'profile_background_image_url': None,\n",
       "  'profile_background_image_url_https': None,\n",
       "  'profile_background_tile': False,\n",
       "  'profile_image_url': 'http://pbs.twimg.com/profile_images/912612059736571904/Z1Qt1s-S_normal.jpg',\n",
       "  'profile_image_url_https': 'https://pbs.twimg.com/profile_images/912612059736571904/Z1Qt1s-S_normal.jpg',\n",
       "  'profile_banner_url': 'https://pbs.twimg.com/profile_banners/912607062030503936/1560694424',\n",
       "  'profile_link_color': '1DA1F2',\n",
       "  'profile_sidebar_border_color': 'C0DEED',\n",
       "  'profile_sidebar_fill_color': 'DDEEF6',\n",
       "  'profile_text_color': '333333',\n",
       "  'profile_use_background_image': True,\n",
       "  'has_extended_profile': True,\n",
       "  'default_profile': True,\n",
       "  'default_profile_image': False,\n",
       "  'following': True,\n",
       "  'follow_request_sent': False,\n",
       "  'notifications': False,\n",
       "  'translator_type': 'none'},\n",
       " {'_id': ObjectId('6042436334b02a303c4420b8'),\n",
       "  'id': 337910217,\n",
       "  'id_str': '337910217',\n",
       "  'name': 'Snowie',\n",
       "  'screen_name': 'HuSnizhne',\n",
       "  'location': 'Киев-Донецк',\n",
       "  'description': 'Письменниця, мікроблогерка, кролик Книжка тут: https://t.co/8VtezFhQWi',\n",
       "  'url': 'https://t.co/u2iDjELkeN',\n",
       "  'entities': {'url': {'urls': [{'url': 'https://t.co/u2iDjELkeN',\n",
       "      'expanded_url': 'http://snowcity.in.ua',\n",
       "      'display_url': 'snowcity.in.ua',\n",
       "      'indices': [0, 23]}]},\n",
       "   'description': {'urls': [{'url': 'https://t.co/8VtezFhQWi',\n",
       "      'expanded_url': 'http://bit.ly/2MX1Q6q',\n",
       "      'display_url': 'bit.ly/2MX1Q6q',\n",
       "      'indices': [47, 70]}]}},\n",
       "  'protected': False,\n",
       "  'followers_count': 20139,\n",
       "  'friends_count': 682,\n",
       "  'listed_count': 130,\n",
       "  'created_at': 'Mon Jul 18 19:38:20 +0000 2011',\n",
       "  'favourites_count': 226503,\n",
       "  'utc_offset': None,\n",
       "  'time_zone': None,\n",
       "  'geo_enabled': False,\n",
       "  'verified': False,\n",
       "  'statuses_count': 236657,\n",
       "  'lang': None,\n",
       "  'status': {'created_at': 'Fri Mar 05 14:10:06 +0000 2021',\n",
       "   'id': 1367839843200434176,\n",
       "   'id_str': '1367839843200434176',\n",
       "   'text': 'RT @your_melanie: Клопотання про звільнення Сергія Стерненка з-під варти суд розглядати НЕ БУДЕ.\\n\\nСлідчий суддя Осік залишив клопотання без…',\n",
       "   'truncated': False,\n",
       "   'entities': {'hashtags': [],\n",
       "    'symbols': [],\n",
       "    'user_mentions': [{'screen_name': 'your_melanie',\n",
       "      'name': 'неможливо',\n",
       "      'id': 176570346,\n",
       "      'id_str': '176570346',\n",
       "      'indices': [3, 16]}],\n",
       "    'urls': []},\n",
       "   'source': '<a href=\"https://mobile.twitter.com\" rel=\"nofollow\">Twitter Web App</a>',\n",
       "   'in_reply_to_status_id': None,\n",
       "   'in_reply_to_status_id_str': None,\n",
       "   'in_reply_to_user_id': None,\n",
       "   'in_reply_to_user_id_str': None,\n",
       "   'in_reply_to_screen_name': None,\n",
       "   'geo': None,\n",
       "   'coordinates': None,\n",
       "   'place': None,\n",
       "   'contributors': None,\n",
       "   'retweeted_status': {'created_at': 'Fri Mar 05 14:09:00 +0000 2021',\n",
       "    'id': 1367839565822767110,\n",
       "    'id_str': '1367839565822767110',\n",
       "    'text': 'Клопотання про звільнення Сергія Стерненка з-під варти суд розглядати НЕ БУДЕ.\\n\\nСлідчий суддя Осік залишив клопотан… https://t.co/3wH7iCcGmV',\n",
       "    'truncated': True,\n",
       "    'entities': {'hashtags': [],\n",
       "     'symbols': [],\n",
       "     'user_mentions': [],\n",
       "     'urls': [{'url': 'https://t.co/3wH7iCcGmV',\n",
       "       'expanded_url': 'https://twitter.com/i/web/status/1367839565822767110',\n",
       "       'display_url': 'twitter.com/i/web/status/1…',\n",
       "       'indices': [117, 140]}]},\n",
       "    'source': '<a href=\"http://twitter.com/download/iphone\" rel=\"nofollow\">Twitter for iPhone</a>',\n",
       "    'in_reply_to_status_id': None,\n",
       "    'in_reply_to_status_id_str': None,\n",
       "    'in_reply_to_user_id': None,\n",
       "    'in_reply_to_user_id_str': None,\n",
       "    'in_reply_to_screen_name': None,\n",
       "    'geo': None,\n",
       "    'coordinates': None,\n",
       "    'place': None,\n",
       "    'contributors': None,\n",
       "    'is_quote_status': False,\n",
       "    'retweet_count': 77,\n",
       "    'favorite_count': 167,\n",
       "    'favorited': False,\n",
       "    'retweeted': False,\n",
       "    'lang': 'uk'},\n",
       "   'is_quote_status': False,\n",
       "   'retweet_count': 77,\n",
       "   'favorite_count': 0,\n",
       "   'favorited': False,\n",
       "   'retweeted': False,\n",
       "   'lang': 'uk'},\n",
       "  'contributors_enabled': False,\n",
       "  'is_translator': False,\n",
       "  'is_translation_enabled': False,\n",
       "  'profile_background_color': '20201E',\n",
       "  'profile_background_image_url': 'http://abs.twimg.com/images/themes/theme1/bg.png',\n",
       "  'profile_background_image_url_https': 'https://abs.twimg.com/images/themes/theme1/bg.png',\n",
       "  'profile_background_tile': True,\n",
       "  'profile_image_url': 'http://pbs.twimg.com/profile_images/1354008526625140736/teG7gd0O_normal.jpg',\n",
       "  'profile_image_url_https': 'https://pbs.twimg.com/profile_images/1354008526625140736/teG7gd0O_normal.jpg',\n",
       "  'profile_banner_url': 'https://pbs.twimg.com/profile_banners/337910217/1408021999',\n",
       "  'profile_link_color': '981CEB',\n",
       "  'profile_sidebar_border_color': '000000',\n",
       "  'profile_sidebar_fill_color': '20201E',\n",
       "  'profile_text_color': 'C8A86F',\n",
       "  'profile_use_background_image': True,\n",
       "  'has_extended_profile': False,\n",
       "  'default_profile': False,\n",
       "  'default_profile_image': False,\n",
       "  'following': True,\n",
       "  'follow_request_sent': False,\n",
       "  'notifications': False,\n",
       "  'translator_type': 'none'}]"
      ]
     },
     "execution_count": 109,
     "metadata": {},
     "output_type": "execute_result"
    }
   ],
   "source": [
    "result = client['tw_data']['users'].aggregate([\n",
    "    {\n",
    "        '$match': {\n",
    "            'location': {\n",
    "                '$in': [\n",
    "                    'Киев', 'Киев-Донецк'\n",
    "                ]\n",
    "            }\n",
    "        }\n",
    "    }\n",
    "])\n",
    "\n",
    "list(result)"
   ]
  },
  {
   "cell_type": "code",
   "execution_count": 110,
   "metadata": {},
   "outputs": [
    {
     "data": {
      "text/plain": [
       "[{'name': 'баварская_колбаска',\n",
       "  'screen_name': 'bavar_kolbaska',\n",
       "  'count': 0,\n",
       "  'add': '0'},\n",
       " {'name': 'Snowie', 'screen_name': 'HuSnizhne', 'count': 0, 'add': '0'}]"
      ]
     },
     "execution_count": 110,
     "metadata": {},
     "output_type": "execute_result"
    }
   ],
   "source": [
    "result = client['tw_data']['users'].aggregate([\n",
    "    {\n",
    "        '$match': {\n",
    "            'location': {\n",
    "                '$in': [\n",
    "                    'Киев', 'Киев-Донецк'\n",
    "                ]\n",
    "            }\n",
    "        }\n",
    "    }, {\n",
    "        '$project': {\n",
    "            'name': 1, \n",
    "            'screen_name': 1, \n",
    "            '_id': 0, \n",
    "            'count': {\n",
    "                '$add': 0\n",
    "            }, \n",
    "            'add': '0'\n",
    "        }\n",
    "    }\n",
    "])\n",
    "\n",
    "list(result)"
   ]
  },
  {
   "cell_type": "code",
   "execution_count": 111,
   "metadata": {},
   "outputs": [
    {
     "data": {
      "text/plain": [
       "[{'_id': ObjectId('6047455dc88fbe4607e22808'),\n",
       "  'user_id': 42980370,\n",
       "  'friends_id': 1208882797336834054},\n",
       " {'_id': ObjectId('6047455dc88fbe4607e22808'),\n",
       "  'user_id': 42980370,\n",
       "  'friends_id': 118938694},\n",
       " {'_id': ObjectId('6047455dc88fbe4607e22808'),\n",
       "  'user_id': 42980370,\n",
       "  'friends_id': 855118312145133568},\n",
       " {'_id': ObjectId('6047455dc88fbe4607e22808'),\n",
       "  'user_id': 42980370,\n",
       "  'friends_id': 273654265},\n",
       " {'_id': ObjectId('6047455dc88fbe4607e22808'),\n",
       "  'user_id': 42980370,\n",
       "  'friends_id': 326997650},\n",
       " {'_id': ObjectId('6047455dc88fbe4607e22808'),\n",
       "  'user_id': 42980370,\n",
       "  'friends_id': 821558695389589506},\n",
       " {'_id': ObjectId('6047455dc88fbe4607e22808'),\n",
       "  'user_id': 42980370,\n",
       "  'friends_id': 252691456},\n",
       " {'_id': ObjectId('6047455dc88fbe4607e22808'),\n",
       "  'user_id': 42980370,\n",
       "  'friends_id': 29016665},\n",
       " {'_id': ObjectId('6047455dc88fbe4607e22808'),\n",
       "  'user_id': 42980370,\n",
       "  'friends_id': 269907005},\n",
       " {'_id': ObjectId('6047455dc88fbe4607e22808'),\n",
       "  'user_id': 42980370,\n",
       "  'friends_id': 2148233600},\n",
       " {'_id': ObjectId('6047455dc88fbe4607e22808'),\n",
       "  'user_id': 42980370,\n",
       "  'friends_id': 53772036},\n",
       " {'_id': ObjectId('6047455dc88fbe4607e22808'),\n",
       "  'user_id': 42980370,\n",
       "  'friends_id': 177087369},\n",
       " {'_id': ObjectId('6047455dc88fbe4607e22808'),\n",
       "  'user_id': 42980370,\n",
       "  'friends_id': 15944436},\n",
       " {'_id': ObjectId('6047455dc88fbe4607e22808'),\n",
       "  'user_id': 42980370,\n",
       "  'friends_id': 1006521}]"
      ]
     },
     "execution_count": 111,
     "metadata": {},
     "output_type": "execute_result"
    }
   ],
   "source": [
    "result = client['tw_data']['friends'].aggregate([\n",
    "    {\n",
    "        '$match': {\n",
    "            'user_id': 42980370\n",
    "        }\n",
    "    }, {\n",
    "        '$unwind': {\n",
    "            'path': '$friends_id'\n",
    "        }\n",
    "    }, {\n",
    "        '$lookup': {\n",
    "            'from': 'users', \n",
    "            'localField': 'friends_id', \n",
    "            'foreignField': 'id', \n",
    "            'as': 'users_data'\n",
    "        }\n",
    "    }, {\n",
    "        '$unwind': {\n",
    "            'path': '$users_data', \n",
    "            'preserveNullAndEmptyArrays': True\n",
    "        }\n",
    "    }\n",
    "])\n",
    "\n",
    "list(result)"
   ]
  },
  {
   "cell_type": "code",
   "execution_count": null,
   "metadata": {},
   "outputs": [],
   "source": []
  }
 ],
 "metadata": {
  "kernelspec": {
   "display_name": "venv",
   "language": "python",
   "name": "venv"
  },
  "language_info": {
   "codemirror_mode": {
    "name": "ipython",
    "version": 3
   },
   "file_extension": ".py",
   "mimetype": "text/x-python",
   "name": "python",
   "nbconvert_exporter": "python",
   "pygments_lexer": "ipython3",
   "version": "3.6.4"
  },
  "latex_envs": {
   "LaTeX_envs_menu_present": true,
   "autoclose": false,
   "autocomplete": true,
   "bibliofile": "biblio.bib",
   "cite_by": "apalike",
   "current_citInitial": 1,
   "eqLabelWithNumbers": true,
   "eqNumInitial": 1,
   "hotkeys": {
    "equation": "Ctrl-E",
    "itemize": "Ctrl-I"
   },
   "labels_anchors": false,
   "latex_user_defs": false,
   "report_style_numbering": false,
   "user_envs_cfg": false
  },
  "varInspector": {
   "cols": {
    "lenName": 16,
    "lenType": 16,
    "lenVar": 40
   },
   "kernels_config": {
    "python": {
     "delete_cmd_postfix": "",
     "delete_cmd_prefix": "del ",
     "library": "var_list.py",
     "varRefreshCmd": "print(var_dic_list())"
    },
    "r": {
     "delete_cmd_postfix": ") ",
     "delete_cmd_prefix": "rm(",
     "library": "var_list.r",
     "varRefreshCmd": "cat(var_dic_list()) "
    }
   },
   "types_to_exclude": [
    "module",
    "function",
    "builtin_function_or_method",
    "instance",
    "_Feature"
   ],
   "window_display": false
  }
 },
 "nbformat": 4,
 "nbformat_minor": 2
}
