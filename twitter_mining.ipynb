{
 "cells": [
  {
   "cell_type": "code",
   "execution_count": 2,
   "metadata": {},
   "outputs": [],
   "source": [
    "from pymongo import MongoClient\n",
    "import webapp.tw as tw\n",
    "import twitter_text"
   ]
  },
  {
   "cell_type": "code",
   "execution_count": 3,
   "metadata": {},
   "outputs": [],
   "source": [
    "twitter_api = tw.oauth_login()\n",
    "client = MongoClient('127.0.0.1', 3979)"
   ]
  },
  {
   "cell_type": "code",
   "execution_count": 14,
   "metadata": {},
   "outputs": [],
   "source": [
    "db = client.tw_data\n",
    "\n",
    "users = db.users\n",
    "followers = db.followers\n",
    "friends = db.friends"
   ]
  },
  {
   "cell_type": "code",
   "execution_count": 42,
   "metadata": {
    "scrolled": true
   },
   "outputs": [
    {
     "name": "stdout",
     "output_type": "stream",
     "text": [
      "name: дїїїїїїїдько, id: 1057974587890298880, followers: 1933, friends: 262\n",
      "name: отличная хрестоматийная cougar, id: 186384811, followers: 4521, friends: 615\n",
      "name: BBC Learning English, id: 2450291, followers: 629132, friends: 2297\n",
      "name: 9to5Toys, id: 42980370, followers: 72624, friends: 14\n",
      "name: Kіевлянинъ, id: 2813067186, followers: 5700, friends: 3911\n",
      "name: Google Maps, id: 31311757, followers: 3840906, friends: 58\n",
      "name: Gmail, id: 38679388, followers: 6282742, friends: 115\n",
      "name: КМДА, id: 862574318345179137, followers: 1895, friends: 140\n",
      "name: Денис Казанський, id: 259718566, followers: 98334, friends: 336\n",
      "name: Hon. Judge Dredd, id: 2647840802, followers: 4751, friends: 870\n",
      "name: Visual Studio Code, id: 3167734591, followers: 347888, friends: 125\n",
      "name: Віталій Кличко, id: 814943028, followers: 401621, friends: 55\n",
      "name: nauka.ua, id: 1329384353835733002, followers: 3494, friends: 17\n",
      "name: B&B Project, id: 3251395007, followers: 4948, friends: 1339\n",
      "name: FanlessTech, id: 705716689279782912, followers: 2667, friends: 86\n",
      "name: Kostiantyn Yelisieiev, id: 1134414675612000256, followers: 4730, friends: 67\n",
      "name: Олег  Пономарь, id: 2774459358, followers: 21241, friends: 18\n",
      "name: Адам Смит, id: 4012303169, followers: 6648, friends: 48\n",
      "name: OpenStreetMap UA, id: 3351810969, followers: 480, friends: 102\n",
      "name: Українська Вікіпедія, id: 1656030284, followers: 3892, friends: 115\n",
      "name: Yevstraty Zoria, id: 2208446722, followers: 4775, friends: 127\n",
      "name: Andreas Banderas, id: 81580227, followers: 5308, friends: 595\n",
      "name: Citroën, id: 198789818, followers: 126246, friends: 2816\n",
      "name: баварская_колбаска, id: 912607062030503936, followers: 451, friends: 16\n",
      "name: Tube Time, id: 304787003, followers: 30175, friends: 323\n",
      "name: Olga V. Pettersson, id: 589983379, followers: 17311, friends: 321\n",
      "name: Красень Κиїв, id: 2575433509, followers: 10234, friends: 917\n",
      "name: Turkish Airlines, id: 18909186, followers: 1837810, friends: 34\n",
      "name: Qatar Airways, id: 14589119, followers: 1643398, friends: 233\n",
      "name: Na chasi, id: 835532174686359552, followers: 3856, friends: 79\n",
      "name: Mykhaylo Demkiv / Михайло Демків, id: 1267722202943836160, followers: 1480, friends: 232\n",
      "name: Все о США, id: 2813416529, followers: 11761, friends: 40\n",
      "name: Пан ZÆбафаній жівчік♒м™, id: 2748608792, followers: 8876, friends: 774\n",
      "name: Men's Corner, id: 212942638, followers: 196672, friends: 1338\n",
      "name: Амбасадор Троєщини, id: 17460630, followers: 8461, friends: 492\n",
      "name: Yevgeniy Mudzhyri™, id: 20973687, followers: 4884, friends: 1579\n",
      "name: iFixit, id: 15339201, followers: 103762, friends: 1609\n",
      "name: Роман Цимбалюк, id: 431725554, followers: 6086, friends: 216\n",
      "name: Pavlo Klimkin, id: 383733061, followers: 325201, friends: 274\n",
      "name: Central Bank Rates, id: 19408929, followers: 1883, friends: 70\n",
      "name: Мова – ДНК нації, id: 2827417134, followers: 8375, friends: 12\n",
      "name: Голобородько, id: 1120562504499855360, followers: 3638, friends: 3\n",
      "name: r/DataIsBeautiful, id: 1201186872, followers: 50457, friends: 1337\n",
      "name: Яніна Соколова, id: 772782688033992704, followers: 54456, friends: 61\n",
      "name: ШаЛєна Місія, id: 425331893, followers: 3993, friends: 168\n",
      "name: Python LibHunt, id: 775715782495989761, followers: 2339, friends: 2247\n",
      "name: РuŦyƛA-С, id: 921637074, followers: 23397, friends: 449\n",
      "name: MIL.IN.UA, id: 1102047326, followers: 18753, friends: 240\n",
      "name: Real Python, id: 745911914, followers: 96543, friends: 158\n",
      "name: Ebanoe IT, id: 358639633, followers: 3441, friends: 0\n",
      "name: Data Science Central, id: 393033324, followers: 181379, friends: 1087\n",
      "name: TEXTY.Org.Ua, id: 49572937, followers: 6970, friends: 954\n",
      "name: IPython Developers, id: 860076704, followers: 30005, friends: 23\n",
      "name: Project Jupyter, id: 2460368252, followers: 70289, friends: 71\n",
      "name: /r/Python Popular, id: 1849184514, followers: 888, friends: 216\n",
      "name: Randy Olson, id: 49413866, followers: 123281, friends: 76602\n",
      "name: import python 🐍, id: 2835746784, followers: 28983, friends: 724\n",
      "name: Talk Python Podcast, id: 3098427092, followers: 46324, friends: 3747\n",
      "name: Full Stack Python, id: 2996502625, followers: 62939, friends: 101\n",
      "name: PyCoder’s Weekly, id: 484757080, followers: 76767, friends: 2\n",
      "name: Raymond Hettinger, id: 14159138, followers: 67030, friends: 478\n",
      "name: JavaScript Daily, id: 459275531, followers: 446686, friends: 148\n",
      "name: JetBrains WebStorm, id: 1307796572, followers: 25009, friends: 23\n",
      "name: JetBrains PyCharm, id: 107032314, followers: 51345, friends: 24\n",
      "name: Prometheus, id: 2831618754, followers: 3126, friends: 21\n",
      "name: ЛІГА.net, id: 68969676, followers: 322434, friends: 354\n",
      "name: Max Nefyodov, id: 29409551, followers: 6885, friends: 330\n",
      "name: Peter Shuklinov, id: 253445158, followers: 20902, friends: 30\n",
      "name: Lowcost.UA, id: 242011754, followers: 2393, friends: 92\n",
      "name: Роман Донік, id: 96215272, followers: 22814, friends: 25\n",
      "name: Капітан Прайс, id: 4746811407, followers: 23732, friends: 172\n",
      "name: Сайгон, id: 2883124529, followers: 7680, friends: 16\n",
      "name: Fly4free, id: 95905646, followers: 6976, friends: 93\n",
      "name: LowcostAvia, id: 2420360234, followers: 4141, friends: 22\n",
      "name: Sni, id: 4689725059, followers: 1259, friends: 195\n",
      "name: Vitaly Portnikov, id: 52752441, followers: 281194, friends: 169\n",
      "name: ДК УкрОборонПром, id: 2730219313, followers: 48669, friends: 30\n",
      "name: Тупые запросы в гугле, id: 2354704231, followers: 11562, friends: 0\n",
      "name: Snowie, id: 337910217, followers: 20142, friends: 683\n",
      "name: ЄВРОМАЙДАН, id: 2207788292, followers: 325822, friends: 1261\n",
      "name: Петр и Мазепа, id: 2453418451, followers: 27075, friends: 31\n"
     ]
    }
   ],
   "source": [
    "for user in users.find():\n",
    "    print(\"name: {0}, id: {1}, followers: {2}, friends: {3}\".format(user['name'], \n",
    "                                                                    user['id'], \n",
    "                                                                    user[\"followers_count\"], \n",
    "                                                                    user[\"friends_count\"]))"
   ]
  },
  {
   "cell_type": "code",
   "execution_count": 9,
   "metadata": {
    "scrolled": true
   },
   "outputs": [
    {
     "data": {
      "text/plain": [
       "{'_id': ObjectId('60434f5adbd9ad1540bcfed6'),\n",
       " 'id': 95905646,\n",
       " 'id_str': '95905646',\n",
       " 'name': 'Fly4free',\n",
       " 'screen_name': 'Fly4freepl',\n",
       " 'location': '',\n",
       " 'description': 'Najlepsze promocje i tanie loty! Ponadto podróże i newsy z branży lotniczej: https://t.co/gk9Lx3kTZD\\n\\nThe best travel deals from Europe: https://t.co/4r31WdZcJd',\n",
       " 'url': 'http://t.co/hdCz2WEWDn',\n",
       " 'entities': {'url': {'urls': [{'url': 'http://t.co/hdCz2WEWDn',\n",
       "     'expanded_url': 'http://www.fly4free.pl',\n",
       "     'display_url': 'fly4free.pl',\n",
       "     'indices': [0, 22]}]},\n",
       "  'description': {'urls': [{'url': 'https://t.co/gk9Lx3kTZD',\n",
       "     'expanded_url': 'http://www.fly4free.pl',\n",
       "     'display_url': 'fly4free.pl',\n",
       "     'indices': [77, 100]},\n",
       "    {'url': 'https://t.co/4r31WdZcJd',\n",
       "     'expanded_url': 'http://fly4free.com',\n",
       "     'display_url': 'fly4free.com',\n",
       "     'indices': [137, 160]}]}},\n",
       " 'protected': False,\n",
       " 'followers_count': 6976,\n",
       " 'friends_count': 93,\n",
       " 'listed_count': 91,\n",
       " 'created_at': 'Thu Dec 10 13:57:00 +0000 2009',\n",
       " 'favourites_count': 370,\n",
       " 'utc_offset': None,\n",
       " 'time_zone': None,\n",
       " 'geo_enabled': False,\n",
       " 'verified': False,\n",
       " 'statuses_count': 21598,\n",
       " 'lang': None,\n",
       " 'status': {'created_at': 'Sat Mar 06 08:42:09 +0000 2021',\n",
       "  'id': 1368119701189124098,\n",
       "  'id_str': '1368119701189124098',\n",
       "  'text': 'Tęsknicie za Tajlandią? 💔 Wycieczka pod koniec roku: tydzień na Phuket za 3063 PLN ☀️🌴 Loty Qatar Airways + świetny… https://t.co/A7kbpC7lD2',\n",
       "  'truncated': True,\n",
       "  'entities': {'hashtags': [],\n",
       "   'symbols': [],\n",
       "   'user_mentions': [],\n",
       "   'urls': [{'url': 'https://t.co/A7kbpC7lD2',\n",
       "     'expanded_url': 'https://twitter.com/i/web/status/1368119701189124098',\n",
       "     'display_url': 'twitter.com/i/web/status/1…',\n",
       "     'indices': [117, 140]}]},\n",
       "  'source': '<a href=\"http://twitter.com/download/android\" rel=\"nofollow\">Twitter for Android</a>',\n",
       "  'in_reply_to_status_id': None,\n",
       "  'in_reply_to_status_id_str': None,\n",
       "  'in_reply_to_user_id': None,\n",
       "  'in_reply_to_user_id_str': None,\n",
       "  'in_reply_to_screen_name': None,\n",
       "  'geo': None,\n",
       "  'coordinates': None,\n",
       "  'place': None,\n",
       "  'contributors': None,\n",
       "  'is_quote_status': False,\n",
       "  'retweet_count': 0,\n",
       "  'favorite_count': 1,\n",
       "  'favorited': False,\n",
       "  'retweeted': False,\n",
       "  'possibly_sensitive': False,\n",
       "  'lang': 'pl'},\n",
       " 'contributors_enabled': False,\n",
       " 'is_translator': False,\n",
       " 'is_translation_enabled': False,\n",
       " 'profile_background_color': 'C0DEED',\n",
       " 'profile_background_image_url': 'http://abs.twimg.com/images/themes/theme1/bg.png',\n",
       " 'profile_background_image_url_https': 'https://abs.twimg.com/images/themes/theme1/bg.png',\n",
       " 'profile_background_tile': False,\n",
       " 'profile_image_url': 'http://pbs.twimg.com/profile_images/982771136550326272/xIQ438wh_normal.jpg',\n",
       " 'profile_image_url_https': 'https://pbs.twimg.com/profile_images/982771136550326272/xIQ438wh_normal.jpg',\n",
       " 'profile_banner_url': 'https://pbs.twimg.com/profile_banners/95905646/1490557644',\n",
       " 'profile_link_color': '1DA1F2',\n",
       " 'profile_sidebar_border_color': 'C0DEED',\n",
       " 'profile_sidebar_fill_color': 'DDEEF6',\n",
       " 'profile_text_color': '333333',\n",
       " 'profile_use_background_image': True,\n",
       " 'has_extended_profile': False,\n",
       " 'default_profile': True,\n",
       " 'default_profile_image': False,\n",
       " 'following': True,\n",
       " 'follow_request_sent': False,\n",
       " 'notifications': False,\n",
       " 'translator_type': 'none'}"
      ]
     },
     "execution_count": 9,
     "metadata": {},
     "output_type": "execute_result"
    }
   ],
   "source": [
    "users.find_one({'name': 'Fly4free'})"
   ]
  },
  {
   "cell_type": "code",
   "execution_count": 11,
   "metadata": {},
   "outputs": [
    {
     "data": {
      "text/plain": [
       "{'_id': ObjectId('60434f5adbd9ad1540bcfed6'),\n",
       " 'id': 95905646,\n",
       " 'name': 'Fly4free',\n",
       " 'screen_name': 'Fly4freepl',\n",
       " 'followers_count': 6976,\n",
       " 'friends_count': 93,\n",
       " 'listed_count': 91,\n",
       " 'favourites_count': 370}"
      ]
     },
     "execution_count": 11,
     "metadata": {},
     "output_type": "execute_result"
    }
   ],
   "source": [
    "users.find_one({'name': 'Fly4free'}, {'name':1, 'screen_name':1, 'id':1, 'followers_count':1, 'friends_count':1,\n",
    "                                     'listed_count':1, 'favourites_count':1})"
   ]
  },
  {
   "cell_type": "code",
   "execution_count": 18,
   "metadata": {},
   "outputs": [
    {
     "data": {
      "text/plain": [
       "{'TheSergeyS': {'id': 489228316,\n",
       "  'id_str': '489228316',\n",
       "  'name': 'Sergey_S',\n",
       "  'screen_name': 'TheSergeyS',\n",
       "  'location': 'Kyiv',\n",
       "  'description': '',\n",
       "  'url': None,\n",
       "  'entities': {'description': {'urls': []}},\n",
       "  'protected': False,\n",
       "  'followers_count': 0,\n",
       "  'friends_count': 81,\n",
       "  'listed_count': 0,\n",
       "  'created_at': 'Sat Feb 11 09:38:41 +0000 2012',\n",
       "  'favourites_count': 771,\n",
       "  'utc_offset': None,\n",
       "  'time_zone': None,\n",
       "  'geo_enabled': False,\n",
       "  'verified': False,\n",
       "  'statuses_count': 61,\n",
       "  'lang': None,\n",
       "  'status': {'created_at': 'Thu Feb 20 16:14:19 +0000 2020',\n",
       "   'id': 1230526100746506240,\n",
       "   'id_str': '1230526100746506240',\n",
       "   'text': 'RT @OlaaBoo: https://t.co/7he7APO8Ls',\n",
       "   'truncated': False,\n",
       "   'entities': {'hashtags': [],\n",
       "    'symbols': [],\n",
       "    'user_mentions': [{'screen_name': 'OlaaBoo',\n",
       "      'name': 'Ola Bo',\n",
       "      'id': 1113119749662179329,\n",
       "      'id_str': '1113119749662179329',\n",
       "      'indices': [3, 11]}],\n",
       "    'urls': [],\n",
       "    'media': [{'id': 1230468491787915265,\n",
       "      'id_str': '1230468491787915265',\n",
       "      'indices': [13, 36],\n",
       "      'media_url': 'http://pbs.twimg.com/media/EROAkvBUUAEPsLl.jpg',\n",
       "      'media_url_https': 'https://pbs.twimg.com/media/EROAkvBUUAEPsLl.jpg',\n",
       "      'url': 'https://t.co/7he7APO8Ls',\n",
       "      'display_url': 'pic.twitter.com/7he7APO8Ls',\n",
       "      'expanded_url': 'https://twitter.com/OlaaBoo/status/1230468497588834304/photo/1',\n",
       "      'type': 'photo',\n",
       "      'sizes': {'large': {'w': 750, 'h': 556, 'resize': 'fit'},\n",
       "       'thumb': {'w': 150, 'h': 150, 'resize': 'crop'},\n",
       "       'medium': {'w': 750, 'h': 556, 'resize': 'fit'},\n",
       "       'small': {'w': 680, 'h': 504, 'resize': 'fit'}},\n",
       "      'source_status_id': 1230468497588834304,\n",
       "      'source_status_id_str': '1230468497588834304',\n",
       "      'source_user_id': 1113119749662179329,\n",
       "      'source_user_id_str': '1113119749662179329'}]},\n",
       "   'extended_entities': {'media': [{'id': 1230468491787915265,\n",
       "      'id_str': '1230468491787915265',\n",
       "      'indices': [13, 36],\n",
       "      'media_url': 'http://pbs.twimg.com/media/EROAkvBUUAEPsLl.jpg',\n",
       "      'media_url_https': 'https://pbs.twimg.com/media/EROAkvBUUAEPsLl.jpg',\n",
       "      'url': 'https://t.co/7he7APO8Ls',\n",
       "      'display_url': 'pic.twitter.com/7he7APO8Ls',\n",
       "      'expanded_url': 'https://twitter.com/OlaaBoo/status/1230468497588834304/photo/1',\n",
       "      'type': 'photo',\n",
       "      'sizes': {'large': {'w': 750, 'h': 556, 'resize': 'fit'},\n",
       "       'thumb': {'w': 150, 'h': 150, 'resize': 'crop'},\n",
       "       'medium': {'w': 750, 'h': 556, 'resize': 'fit'},\n",
       "       'small': {'w': 680, 'h': 504, 'resize': 'fit'}},\n",
       "      'source_status_id': 1230468497588834304,\n",
       "      'source_status_id_str': '1230468497588834304',\n",
       "      'source_user_id': 1113119749662179329,\n",
       "      'source_user_id_str': '1113119749662179329'}]},\n",
       "   'source': '<a href=\"http://twitter.com/download/android\" rel=\"nofollow\">Twitter for Android</a>',\n",
       "   'in_reply_to_status_id': None,\n",
       "   'in_reply_to_status_id_str': None,\n",
       "   'in_reply_to_user_id': None,\n",
       "   'in_reply_to_user_id_str': None,\n",
       "   'in_reply_to_screen_name': None,\n",
       "   'geo': None,\n",
       "   'coordinates': None,\n",
       "   'place': None,\n",
       "   'contributors': None,\n",
       "   'retweeted_status': {'created_at': 'Thu Feb 20 12:25:25 +0000 2020',\n",
       "    'id': 1230468497588834304,\n",
       "    'id_str': '1230468497588834304',\n",
       "    'text': 'https://t.co/7he7APO8Ls',\n",
       "    'truncated': False,\n",
       "    'entities': {'hashtags': [],\n",
       "     'symbols': [],\n",
       "     'user_mentions': [],\n",
       "     'urls': [],\n",
       "     'media': [{'id': 1230468491787915265,\n",
       "       'id_str': '1230468491787915265',\n",
       "       'indices': [0, 23],\n",
       "       'media_url': 'http://pbs.twimg.com/media/EROAkvBUUAEPsLl.jpg',\n",
       "       'media_url_https': 'https://pbs.twimg.com/media/EROAkvBUUAEPsLl.jpg',\n",
       "       'url': 'https://t.co/7he7APO8Ls',\n",
       "       'display_url': 'pic.twitter.com/7he7APO8Ls',\n",
       "       'expanded_url': 'https://twitter.com/OlaaBoo/status/1230468497588834304/photo/1',\n",
       "       'type': 'photo',\n",
       "       'sizes': {'large': {'w': 750, 'h': 556, 'resize': 'fit'},\n",
       "        'thumb': {'w': 150, 'h': 150, 'resize': 'crop'},\n",
       "        'medium': {'w': 750, 'h': 556, 'resize': 'fit'},\n",
       "        'small': {'w': 680, 'h': 504, 'resize': 'fit'}}}]},\n",
       "    'extended_entities': {'media': [{'id': 1230468491787915265,\n",
       "       'id_str': '1230468491787915265',\n",
       "       'indices': [0, 23],\n",
       "       'media_url': 'http://pbs.twimg.com/media/EROAkvBUUAEPsLl.jpg',\n",
       "       'media_url_https': 'https://pbs.twimg.com/media/EROAkvBUUAEPsLl.jpg',\n",
       "       'url': 'https://t.co/7he7APO8Ls',\n",
       "       'display_url': 'pic.twitter.com/7he7APO8Ls',\n",
       "       'expanded_url': 'https://twitter.com/OlaaBoo/status/1230468497588834304/photo/1',\n",
       "       'type': 'photo',\n",
       "       'sizes': {'large': {'w': 750, 'h': 556, 'resize': 'fit'},\n",
       "        'thumb': {'w': 150, 'h': 150, 'resize': 'crop'},\n",
       "        'medium': {'w': 750, 'h': 556, 'resize': 'fit'},\n",
       "        'small': {'w': 680, 'h': 504, 'resize': 'fit'}}}]},\n",
       "    'source': '<a href=\"http://twitter.com/download/iphone\" rel=\"nofollow\">Twitter for iPhone</a>',\n",
       "    'in_reply_to_status_id': None,\n",
       "    'in_reply_to_status_id_str': None,\n",
       "    'in_reply_to_user_id': None,\n",
       "    'in_reply_to_user_id_str': None,\n",
       "    'in_reply_to_screen_name': None,\n",
       "    'geo': None,\n",
       "    'coordinates': None,\n",
       "    'place': None,\n",
       "    'contributors': None,\n",
       "    'is_quote_status': False,\n",
       "    'retweet_count': 3,\n",
       "    'favorite_count': 9,\n",
       "    'favorited': False,\n",
       "    'retweeted': True,\n",
       "    'possibly_sensitive': False,\n",
       "    'lang': 'und'},\n",
       "   'is_quote_status': False,\n",
       "   'retweet_count': 3,\n",
       "   'favorite_count': 0,\n",
       "   'favorited': False,\n",
       "   'retweeted': True,\n",
       "   'possibly_sensitive': False,\n",
       "   'lang': 'und'},\n",
       "  'contributors_enabled': False,\n",
       "  'is_translator': False,\n",
       "  'is_translation_enabled': False,\n",
       "  'profile_background_color': 'C0DEED',\n",
       "  'profile_background_image_url': 'http://abs.twimg.com/images/themes/theme1/bg.png',\n",
       "  'profile_background_image_url_https': 'https://abs.twimg.com/images/themes/theme1/bg.png',\n",
       "  'profile_background_tile': False,\n",
       "  'profile_image_url': 'http://abs.twimg.com/sticky/default_profile_images/default_profile_normal.png',\n",
       "  'profile_image_url_https': 'https://abs.twimg.com/sticky/default_profile_images/default_profile_normal.png',\n",
       "  'profile_link_color': '1DA1F2',\n",
       "  'profile_sidebar_border_color': 'C0DEED',\n",
       "  'profile_sidebar_fill_color': 'DDEEF6',\n",
       "  'profile_text_color': '333333',\n",
       "  'profile_use_background_image': True,\n",
       "  'has_extended_profile': False,\n",
       "  'default_profile': True,\n",
       "  'default_profile_image': True,\n",
       "  'following': False,\n",
       "  'follow_request_sent': False,\n",
       "  'notifications': False,\n",
       "  'translator_type': 'none',\n",
       "  'suspended': False,\n",
       "  'needs_phone_verification': False}}"
      ]
     },
     "execution_count": 18,
     "metadata": {},
     "output_type": "execute_result"
    }
   ],
   "source": [
    "tw.get_user_profile(twitter_api,screen_names=['TheSergeyS'])"
   ]
  },
  {
   "cell_type": "code",
   "execution_count": 31,
   "metadata": {},
   "outputs": [],
   "source": [
    "def user_friends_followers_toDB(db, userid, friends, followers):\n",
    "        \n",
    "        friend_id = db.friends.insert_one({'user_id': userid, 'friends_id': friends}).inserted_id\n",
    "        follower_id = db.followers.insert_one({'user_id': userid, 'followers_id': followers}).inserted_id\n",
    "        \n",
    "        return friend_id, follower_id"
   ]
  },
  {
   "cell_type": "code",
   "execution_count": 32,
   "metadata": {},
   "outputs": [
    {
     "name": "stdout",
     "output_type": "stream",
     "text": [
      "(ObjectId('6043b24bce9d6f1ebd757d1c'), ObjectId('6043b24bce9d6f1ebd757d1d'))\n"
     ]
    }
   ],
   "source": [
    "# user_friends_followers_toDB(db, 489228316, friends_id, followers_ids)"
   ]
  },
  {
   "cell_type": "code",
   "execution_count": 40,
   "metadata": {},
   "outputs": [
    {
     "data": {
      "text/plain": [
       "list"
      ]
     },
     "execution_count": 40,
     "metadata": {},
     "output_type": "execute_result"
    }
   ],
   "source": [
    "# friends.find_one()['friends_id']"
   ]
  },
  {
   "cell_type": "code",
   "execution_count": 43,
   "metadata": {},
   "outputs": [
    {
     "name": "stderr",
     "output_type": "stream",
     "text": [
      "Fetched 14 total friends ids for 42980370\n",
      "Fetched 5000 total followers ids for 42980370\n",
      "Fetched 10000 total followers ids for 42980370\n",
      "Fetched 15000 total followers ids for 42980370\n",
      "Fetched 20000 total followers ids for 42980370\n",
      "Fetched 25000 total followers ids for 42980370\n",
      "Fetched 30000 total followers ids for 42980370\n",
      "Fetched 35000 total followers ids for 42980370\n",
      "Fetched 40000 total followers ids for 42980370\n",
      "Fetched 45000 total followers ids for 42980370\n",
      "Fetched 50000 total followers ids for 42980370\n",
      "Fetched 55000 total followers ids for 42980370\n",
      "Fetched 60000 total followers ids for 42980370\n",
      "Fetched 65000 total followers ids for 42980370\n",
      "Fetched 70000 total followers ids for 42980370\n"
     ]
    },
    {
     "name": "stdout",
     "output_type": "stream",
     "text": [
      "(ObjectId('6043b56bce9d6f1ebd757d1e'), ObjectId('6043b56bce9d6f1ebd757d1f'))\n"
     ]
    },
    {
     "name": "stderr",
     "output_type": "stream",
     "text": [
      "Fetched 72622 total followers ids for 42980370\n"
     ]
    }
   ],
   "source": [
    "# 42980370 9to5Toys\n",
    "\n",
    "# friends_id, followers_ids = tw.get_friends_followers_ids(twitter_api, user_id = 42980370)\n",
    "\n",
    "# user_friends_followers_toDB(db, 42980370, friends_id, followers_ids)\n",
    "# friends.find_one({'user_id': 42980370})['friends_id']\n",
    "\n",
    "# users_profile = tw.get_user_profile(twitter_api, user_ids = friends_id)\n",
    "# for key, value in users_profile.items():\n",
    "#     user_id = users.insert_one(value).inserted_id\n",
    "#     print(user_id)"
   ]
  },
  {
   "cell_type": "code",
   "execution_count": 53,
   "metadata": {},
   "outputs": [
    {
     "data": {
      "text/plain": [
       "95"
      ]
     },
     "execution_count": 53,
     "metadata": {},
     "output_type": "execute_result"
    }
   ],
   "source": [
    "users.count_documents({})"
   ]
  },
  {
   "cell_type": "code",
   "execution_count": 82,
   "metadata": {
    "scrolled": true
   },
   "outputs": [
    {
     "data": {
      "text/plain": [
       "[1057974587890298880,\n",
       " 186384811,\n",
       " 2450291,\n",
       " 42980370,\n",
       " 2813067186,\n",
       " 31311757,\n",
       " 38679388,\n",
       " 862574318345179137,\n",
       " 259718566,\n",
       " 2647840802,\n",
       " 3167734591,\n",
       " 814943028,\n",
       " 1329384353835733002,\n",
       " 3251395007,\n",
       " 705716689279782912,\n",
       " 1134414675612000256,\n",
       " 2774459358,\n",
       " 4012303169,\n",
       " 3351810969,\n",
       " 1656030284,\n",
       " 2208446722,\n",
       " 81580227,\n",
       " 198789818,\n",
       " 912607062030503936,\n",
       " 304787003,\n",
       " 589983379,\n",
       " 2575433509,\n",
       " 18909186,\n",
       " 14589119,\n",
       " 835532174686359552,\n",
       " 1267722202943836160,\n",
       " 2813416529,\n",
       " 2748608792,\n",
       " 212942638,\n",
       " 17460630,\n",
       " 20973687,\n",
       " 15339201,\n",
       " 431725554,\n",
       " 383733061,\n",
       " 19408929,\n",
       " 2827417134,\n",
       " 1120562504499855360,\n",
       " 1201186872,\n",
       " 772782688033992704,\n",
       " 425331893,\n",
       " 775715782495989761,\n",
       " 921637074,\n",
       " 1102047326,\n",
       " 745911914,\n",
       " 358639633,\n",
       " 393033324,\n",
       " 49572937,\n",
       " 860076704,\n",
       " 2460368252,\n",
       " 1849184514,\n",
       " 49413866,\n",
       " 2835746784,\n",
       " 3098427092,\n",
       " 2996502625,\n",
       " 484757080,\n",
       " 14159138,\n",
       " 459275531,\n",
       " 1307796572,\n",
       " 107032314,\n",
       " 2831618754,\n",
       " 68969676,\n",
       " 29409551,\n",
       " 253445158,\n",
       " 242011754,\n",
       " 96215272,\n",
       " 4746811407,\n",
       " 2883124529,\n",
       " 95905646,\n",
       " 2420360234,\n",
       " 4689725059,\n",
       " 52752441,\n",
       " 2730219313,\n",
       " 2354704231,\n",
       " 337910217,\n",
       " 2207788292,\n",
       " 2453418451]"
      ]
     },
     "execution_count": 82,
     "metadata": {},
     "output_type": "execute_result"
    }
   ],
   "source": [
    "query = db.friends.find_one()['friends_id']\n",
    "# users.find( {'id': { $in: db.friends.find({'user_id':42980370})['friends_id'] }} )\n",
    "list(users.find( {'id': query } ))\n",
    "query"
   ]
  },
  {
   "cell_type": "code",
   "execution_count": null,
   "metadata": {},
   "outputs": [],
   "source": [
    "db.inventory.find( { qty: { $in: [ 5, 15 ] } } )"
   ]
  },
  {
   "cell_type": "code",
   "execution_count": 71,
   "metadata": {
    "scrolled": true
   },
   "outputs": [
    {
     "data": {
      "text/plain": [
       "[{'_id': ObjectId('6043b56bce9d6f1ebd757d1e'),\n",
       "  'user_id': 42980370,\n",
       "  'friends_id': [1208882797336834054,\n",
       "   118938694,\n",
       "   855118312145133568,\n",
       "   273654265,\n",
       "   326997650,\n",
       "   821558695389589506,\n",
       "   252691456,\n",
       "   29016665,\n",
       "   269907005,\n",
       "   2148233600,\n",
       "   53772036,\n",
       "   177087369,\n",
       "   15944436,\n",
       "   1006521]}]"
      ]
     },
     "execution_count": 71,
     "metadata": {},
     "output_type": "execute_result"
    }
   ],
   "source": [
    "list(db.friends.find({'user_id': 42980370}))\n",
    "\n",
    "# friends.find_one()['friends_id']\n",
    "# ['friends_id']"
   ]
  },
  {
   "cell_type": "code",
   "execution_count": 73,
   "metadata": {},
   "outputs": [
    {
     "ename": "TypeError",
     "evalue": "index 'friends_id' cannot be applied to Cursor instances",
     "output_type": "error",
     "traceback": [
      "\u001b[1;31m---------------------------------------------------------------------------\u001b[0m",
      "\u001b[1;31mTypeError\u001b[0m                                 Traceback (most recent call last)",
      "\u001b[1;32m<ipython-input-73-05fb74a5a1d1>\u001b[0m in \u001b[0;36m<module>\u001b[1;34m\u001b[0m\n\u001b[1;32m----> 1\u001b[1;33m \u001b[0mfriends\u001b[0m\u001b[1;33m.\u001b[0m\u001b[0mfind\u001b[0m\u001b[1;33m(\u001b[0m \u001b[1;33m{\u001b[0m\u001b[1;34m'user_id'\u001b[0m\u001b[1;33m:\u001b[0m \u001b[1;36m42980370\u001b[0m\u001b[1;33m}\u001b[0m \u001b[1;33m)\u001b[0m\u001b[1;33m[\u001b[0m\u001b[1;34m'friends_id'\u001b[0m\u001b[1;33m]\u001b[0m\u001b[1;33m\u001b[0m\u001b[0m\n\u001b[0m",
      "\u001b[1;32mC:\\Python36\\lib\\site-packages\\pymongo\\cursor.py\u001b[0m in \u001b[0;36m__getitem__\u001b[1;34m(self, index)\u001b[0m\n\u001b[0;32m    649\u001b[0m             \u001b[1;32mraise\u001b[0m \u001b[0mIndexError\u001b[0m\u001b[1;33m(\u001b[0m\u001b[1;34m\"no such item for Cursor instance\"\u001b[0m\u001b[1;33m)\u001b[0m\u001b[1;33m\u001b[0m\u001b[0m\n\u001b[0;32m    650\u001b[0m         raise TypeError(\"index %r cannot be applied to Cursor \"\n\u001b[1;32m--> 651\u001b[1;33m                         \"instances\" % index)\n\u001b[0m\u001b[0;32m    652\u001b[0m \u001b[1;33m\u001b[0m\u001b[0m\n\u001b[0;32m    653\u001b[0m     \u001b[1;32mdef\u001b[0m \u001b[0mmax_scan\u001b[0m\u001b[1;33m(\u001b[0m\u001b[0mself\u001b[0m\u001b[1;33m,\u001b[0m \u001b[0mmax_scan\u001b[0m\u001b[1;33m)\u001b[0m\u001b[1;33m:\u001b[0m\u001b[1;33m\u001b[0m\u001b[0m\n",
      "\u001b[1;31mTypeError\u001b[0m: index 'friends_id' cannot be applied to Cursor instances"
     ]
    }
   ],
   "source": [
    "friends.find( {'user_id': 42980370} )['friends_id']"
   ]
  },
  {
   "cell_type": "code",
   "execution_count": null,
   "metadata": {},
   "outputs": [],
   "source": []
  }
 ],
 "metadata": {
  "kernelspec": {
   "display_name": "Python 3.6.3 64-bit",
   "language": "python",
   "name": "python36364bitd43626df457f49ea984f441d6988cdbd"
  },
  "language_info": {
   "codemirror_mode": {
    "name": "ipython",
    "version": 3
   },
   "file_extension": ".py",
   "mimetype": "text/x-python",
   "name": "python",
   "nbconvert_exporter": "python",
   "pygments_lexer": "ipython3",
   "version": "3.6.3"
  }
 },
 "nbformat": 4,
 "nbformat_minor": 2
}
